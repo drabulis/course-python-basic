{
 "cells": [
  {
   "cell_type": "markdown",
   "metadata": {},
   "source": [
    "## dekoratorių deklaracija"
   ]
  },
  {
   "cell_type": "code",
   "execution_count": 58,
   "metadata": {},
   "outputs": [
    {
     "name": "stdout",
     "output_type": "stream",
     "text": [
      "[7, 7, 9]\n"
     ]
    }
   ],
   "source": [
    "vaisiai = [\"braškės\", \"bananai\", \"apelsinas\"]\n",
    "ilgiai = map(len, vaisiai)\n",
    "print(list(ilgiai))\n",
    "\n"
   ]
  },
  {
   "cell_type": "code",
   "execution_count": 59,
   "metadata": {},
   "outputs": [
    {
     "name": "stdout",
     "output_type": "stream",
     "text": [
      "sveikas, zmogau\n",
      "viso gero, zmogau\n"
     ]
    }
   ],
   "source": [
    "from typing import Callable\n",
    "\n",
    "def pasisveikinimas(funkcija: Callable) -> None:\n",
    "    def wrapper(vardas: str):\n",
    "        print(f\"sveikas, {vardas}\")\n",
    "        funkcija(vardas)\n",
    "    return wrapper\n",
    "\n",
    "@pasisveikinimas\n",
    "def atsisveikinimas(vardas: str) -> None:\n",
    "    print(f\"viso gero, {vardas}\")\n",
    "\n",
    "atsisveikinimas(\"zmogau\")"
   ]
  },
  {
   "cell_type": "code",
   "execution_count": 74,
   "metadata": {},
   "outputs": [
    {
     "name": "stdout",
     "output_type": "stream",
     "text": [
      "4280\n"
     ]
    }
   ],
   "source": [
    "from typing import Callable, Any\n",
    "from functools import wraps\n",
    "\n",
    "skaiciai = [3, 7, 5, 4, 10]\n",
    "\n",
    "\n",
    "def tikrinti_teigiamus(funkcija: Callable[..., int|float]) -> Callable[..., int|float]:\n",
    "    \"\"\"\n",
    "    Dekoratorius, kuris patikrina visus argumentus, ar jie yra int ar float,\n",
    "    ir ar jų reukšmės yra teigiamos. Jeigu bent vienas argumentas neatitinka\n",
    "    reikalavimų, iššaukiama klaida\n",
    "\n",
    "    Argumentai:\n",
    "        funkcija (callable): funkcija, kurią reikia dekoruoti\n",
    "    \"\"\"\n",
    "    @wraps(funkcija)\n",
    "    def wrapper(*args, **kwargs) -> Any:\n",
    "        \"\"\" \n",
    "        Dekoratoriaus wrapperis, kuris išmeta klaidą, jeigu paduotos funkcijos\n",
    "        argai ir kwargų reikšmės nėra skaičiai arba yra neigiami.\n",
    "        \"\"\"\n",
    "        if not all(type(arg) in (int, float) for arg in args) \\\n",
    "                or not all(type(kwarg) in (int, float) for kwarg in kwargs.values()):\n",
    "            raise ValueError(\"Argumentai gali būti tik skaičiai\")\n",
    "        elif not all(arg > 0 for arg in args) \\\n",
    "                or not all(kwarg > 0 for kwarg in kwargs.values()):\n",
    "            raise ValueError('Skaičiai turi būti visi teigiami')\n",
    "        else:\n",
    "            return funkcija(*args, **kwargs)\n",
    "    return wrapper\n",
    "\n",
    "\n",
    "@tikrinti_teigiamus\n",
    "def sudauginti_ir_prideti_kwargus(*args, **kwargs) -> int|float:\n",
    "    \"\"\"\n",
    "    Funkcija, kuri sudaugina argus, ir prie jos prideda kwargus\n",
    "    \"\"\"\n",
    "    multiplied = 1\n",
    "    for number in args:\n",
    "        multiplied *= number\n",
    "    if kwargs:\n",
    "        for kwarg in kwargs.values():\n",
    "            multiplied += kwarg\n",
    "    return multiplied\n",
    "\n",
    "print(sudauginti_ir_prideti_kwargus(*skaiciai, **{'bulvės': 69, 'kečupo': 11}))"
   ]
  },
  {
   "cell_type": "code",
   "execution_count": 77,
   "metadata": {},
   "outputs": [
    {
     "name": "stdout",
     "output_type": "stream",
     "text": [
      "\n",
      "    Funkcija, kuri sudaugina argus, ir prie jos prideda kwargus\n",
      "    \n",
      "\n",
      "    Dekoratorius, kuris patikrina visus argumentus, ar jie yra int ar float,\n",
      "    ir ar jų reukšmės yra teigiamos. Jeigu bent vienas argumentas neatitinka\n",
      "    reikalavimų, iššaukiama klaida\n",
      "\n",
      "    Argumentai:\n",
      "        funkcija (callable): funkcija, kurią reikia dekoruoti\n",
      "    \n"
     ]
    }
   ],
   "source": [
    "print(sudauginti_ir_prideti_kwargus.__doc__)\n",
    "print(tikrinti_teigiamus.__doc__)"
   ]
  },
  {
   "cell_type": "markdown",
   "metadata": {},
   "source": [
    "## klasės dekoratoriai"
   ]
  },
  {
   "cell_type": "code",
   "execution_count": 62,
   "metadata": {},
   "outputs": [
    {
     "name": "stdout",
     "output_type": "stream",
     "text": [
      "Petras Jonaitis\n",
      "einu\n",
      "einu\n",
      "True False\n",
      "True\n"
     ]
    }
   ],
   "source": [
    "class Zmogus:\n",
    "    gyvas = True\n",
    "\n",
    "    def __init__(self, vardas:str, pavarde:str) -> None:\n",
    "        self.vardas = vardas\n",
    "        self.pavarde = pavarde\n",
    "\n",
    "    @property\n",
    "    def pilnas_vardas(self) -> str:\n",
    "        return f\"{self.vardas} {self.pavarde}\"\n",
    "    \n",
    "    def __str__(self) -> str:\n",
    "        return self.pilnas_vardas\n",
    "    \n",
    "    @staticmethod\n",
    "    def eiti():\n",
    "        print(\"einu\")\n",
    "\n",
    "    @classmethod\n",
    "    @property\n",
    "    def nemirtingas(cls):\n",
    "        return cls.gyvas\n",
    "\n",
    "petras = Zmogus(\"Petras\", \"Jonaitis\")\n",
    "print(petras)\n",
    "petras.eiti()\n",
    "Zmogus.eiti()\n",
    "petras.gyvas = False\n",
    "print(petras.nemirtingas, petras.gyvas)\n",
    "print(Zmogus.nemirtingas)"
   ]
  },
  {
   "cell_type": "markdown",
   "metadata": {},
   "source": [
    "## dekoratoriai su argumentais"
   ]
  },
  {
   "cell_type": "code",
   "execution_count": 90,
   "metadata": {},
   "outputs": [
    {
     "name": "stdout",
     "output_type": "stream",
     "text": [
      "Labas\n",
      "Labas\n",
      "Labas\n",
      "Labas\n",
      "Labas\n"
     ]
    },
    {
     "data": {
      "text/plain": [
       "[None, None, None, None, None]"
      ]
     },
     "execution_count": 90,
     "metadata": {},
     "output_type": "execute_result"
    }
   ],
   "source": [
    "from functools import wraps\n",
    "from typing import Callable, Any\n",
    "\n",
    "def repeat(times: int):\n",
    "    def repeat_decorator(func, times=times):\n",
    "        @wraps(func)\n",
    "        def wrapper(*args, times=times, **kwargs):\n",
    "            results = []\n",
    "            while times > 0:\n",
    "                results.append(func(*args, **kwargs))\n",
    "                times -= 1\n",
    "            return results\n",
    "        return wrapper\n",
    "    return repeat_decorator\n",
    "\n",
    "@repeat(5)\n",
    "def print_message(message: str) -> None:\n",
    "    print(message)\n",
    "\n",
    "print_message(\"Labas\")"
   ]
  },
  {
   "cell_type": "code",
   "execution_count": 186,
   "metadata": {},
   "outputs": [],
   "source": [
    "from time import time\n",
    "def meter(func):\n",
    "    def wrapper(*args, **kwargs):\n",
    "        start = time()\n",
    "        result = func(*args, **kwargs)\n",
    "        print(time() - start, func.__name__)\n",
    "        return result\n",
    "    return wrapper\n"
   ]
  },
  {
   "cell_type": "code",
   "execution_count": 197,
   "metadata": {},
   "outputs": [
    {
     "name": "stdout",
     "output_type": "stream",
     "text": [
      "7.867813110351562e-06 loterijos_bilietas\n",
      "1.049041748046875e-05 loterijos_bilietas\n",
      "6.67572021484375e-06 loterijos_bilietas\n",
      "laimingi skaiciai: [35, 45, 97, 73, 48]\n",
      "bilietas: [67, 95, 73, 42, 21, 32, 35] sutapo: 2\n",
      "bilietas: [34, 30, 89, 89, 87, 74, 82] sutapo: 0\n",
      "bilietas: [51, 57, 98, 23, 41, 24, 15] sutapo: 0\n",
      "0.0001533031463623047 tikrinti_bilietus\n",
      "[2, 0, 0]\n"
     ]
    }
   ],
   "source": [
    "from random import randint\n",
    "\n",
    "@meter\n",
    "@repeat(7)\n",
    "def loterijos_bilietas():\n",
    "    return randint(10, 99)\n",
    "\n",
    "@repeat(5)\n",
    "def laimingi_skaiciai():\n",
    "    return randint(10, 99)\n",
    "\n",
    "@meter\n",
    "def tikrinti_bilietus(bilietu=1, loterija=laimingi_skaiciai()):\n",
    "    bilietai = [loterijos_bilietas() for _ in range(bilietu)]\n",
    "    print('laimingi skaiciai:', loterija)\n",
    "    rezultatai = []\n",
    "    for bilietas in bilietai:\n",
    "        sutapo = 0\n",
    "        for numeris in bilietas:\n",
    "            if numeris in loterija:\n",
    "                sutapo += 1\n",
    "        rezultatai.append(sutapo)\n",
    "        print('bilietas:', bilietas, 'sutapo:', sutapo)\n",
    "    return rezultatai\n",
    "\n",
    "print(tikrinti_bilietus(bilietu=3))"
   ]
  }
 ],
 "metadata": {
  "kernelspec": {
   "display_name": "venv",
   "language": "python",
   "name": "python3"
  },
  "language_info": {
   "codemirror_mode": {
    "name": "ipython",
    "version": 3
   },
   "file_extension": ".py",
   "mimetype": "text/x-python",
   "name": "python",
   "nbconvert_exporter": "python",
   "pygments_lexer": "ipython3",
   "version": "3.10.12"
  },
  "orig_nbformat": 4
 },
 "nbformat": 4,
 "nbformat_minor": 2
}
