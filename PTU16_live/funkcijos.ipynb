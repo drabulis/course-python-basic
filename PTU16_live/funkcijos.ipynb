{
 "cells": [
  {
   "cell_type": "code",
   "execution_count": 2,
   "metadata": {},
   "outputs": [
    {
     "name": "stdout",
     "output_type": "stream",
     "text": [
      "betkas padaryta...\n",
      "betkas padaryta...\n",
      "betkas padaryta...\n"
     ]
    }
   ],
   "source": [
    "def darau_betka():\n",
    "    print(\"betkas padaryta...\")\n",
    "\n",
    "darau_betka()\n",
    "darau_betka()\n",
    "darau_betka()"
   ]
  },
  {
   "cell_type": "code",
   "execution_count": 3,
   "metadata": {},
   "outputs": [
    {
     "name": "stdout",
     "output_type": "stream",
     "text": [
      "darau pritupimus...\n"
     ]
    }
   ],
   "source": [
    "def daryti(ka):\n",
    "    print(f\"darau {ka}...\")\n",
    "\n",
    "daryti(\"pritupimus\")"
   ]
  },
  {
   "cell_type": "code",
   "execution_count": 4,
   "metadata": {},
   "outputs": [
    {
     "name": "stdout",
     "output_type": "stream",
     "text": [
      "Įvestas skaičius yra sveikasis.\n",
      "Įvestas skaičius yra trupmeninis.\n",
      "Įvestas argumentas nėra skaičius.\n"
     ]
    }
   ],
   "source": [
    "def skaiciaus_tipas(skaicius):\n",
    "    if type(skaicius) == int:\n",
    "        print(\"Įvestas skaičius yra sveikasis.\")\n",
    "    elif type(skaicius) == float:\n",
    "        print(\"Įvestas skaičius yra trupmeninis.\")\n",
    "    else:\n",
    "        print(\"Įvestas argumentas nėra skaičius.\")\n",
    "\n",
    "skaiciaus_tipas(25)\n",
    "skaiciaus_tipas(7.77)\n",
    "skaiciaus_tipas(\"X\")"
   ]
  },
  {
   "cell_type": "code",
   "execution_count": 5,
   "metadata": {},
   "outputs": [
    {
     "name": "stdout",
     "output_type": "stream",
     "text": [
      "1996 yra keliamieji\n",
      "2000 yra keliamieji\n",
      "1900 yra nekeliamieji\n",
      "2023 yra nekeliamieji\n"
     ]
    }
   ],
   "source": [
    "def ar_keliamieji(metai):\n",
    "    if metai % 4 == 0 and metai % 100 != 0 or metai % 400 == 0:\n",
    "        print(f\"{metai} yra keliamieji\")\n",
    "    else:\n",
    "        print(f\"{metai} yra nekeliamieji\")\n",
    "\n",
    "ar_keliamieji(1996)\n",
    "ar_keliamieji(2000)\n",
    "ar_keliamieji(1900)\n",
    "ar_keliamieji(2023)"
   ]
  },
  {
   "cell_type": "code",
   "execution_count": 6,
   "metadata": {},
   "outputs": [
    {
     "name": "stdout",
     "output_type": "stream",
     "text": [
      "Sveikas Kestutis Januskevicius\n"
     ]
    }
   ],
   "source": [
    "def pasisveikinti(vardas, pavarde):\n",
    "    print(f\"Sveikas {vardas} {pavarde}\")\n",
    "\n",
    "pasisveikinti(\"Kestutis\", \"Januskevicius\")"
   ]
  },
  {
   "cell_type": "code",
   "execution_count": 7,
   "metadata": {},
   "outputs": [
    {
     "name": "stdout",
     "output_type": "stream",
     "text": [
      "2000 yra keliamieji\n",
      "2001 yra nekeliamieji\n",
      "2002 yra nekeliamieji\n",
      "2003 yra nekeliamieji\n",
      "2004 yra keliamieji\n",
      "2005 yra nekeliamieji\n",
      "2006 yra nekeliamieji\n",
      "2007 yra nekeliamieji\n",
      "2008 yra keliamieji\n",
      "2009 yra nekeliamieji\n",
      "2010 yra nekeliamieji\n",
      "2011 yra nekeliamieji\n",
      "2012 yra keliamieji\n",
      "2013 yra nekeliamieji\n",
      "2014 yra nekeliamieji\n",
      "2015 yra nekeliamieji\n",
      "2016 yra keliamieji\n",
      "2017 yra nekeliamieji\n",
      "2018 yra nekeliamieji\n",
      "2019 yra nekeliamieji\n",
      "2020 yra keliamieji\n",
      "2021 yra nekeliamieji\n",
      "2022 yra nekeliamieji\n",
      "2023 yra nekeliamieji\n",
      "2024 yra keliamieji\n",
      "2025 yra nekeliamieji\n",
      "2026 yra nekeliamieji\n",
      "2027 yra nekeliamieji\n",
      "2028 yra keliamieji\n",
      "2029 yra nekeliamieji\n"
     ]
    }
   ],
   "source": [
    "for metai in range(2000, 2030):\n",
    "    ar_keliamieji(metai)"
   ]
  },
  {
   "cell_type": "code",
   "execution_count": 8,
   "metadata": {},
   "outputs": [
    {
     "name": "stdout",
     "output_type": "stream",
     "text": [
      "121\n"
     ]
    }
   ],
   "source": [
    "def kvadratu(skaicius):\n",
    "    return skaicius ** 2\n",
    "\n",
    "print(kvadratu(11))"
   ]
  },
  {
   "cell_type": "code",
   "execution_count": 9,
   "metadata": {},
   "outputs": [
    {
     "name": "stdout",
     "output_type": "stream",
     "text": [
      "81\n"
     ]
    }
   ],
   "source": [
    "print(kvadratu(kvadratu(3)))"
   ]
  },
  {
   "cell_type": "code",
   "execution_count": 10,
   "metadata": {},
   "outputs": [
    {
     "data": {
      "text/plain": [
       "81"
      ]
     },
     "execution_count": 10,
     "metadata": {},
     "output_type": "execute_result"
    }
   ],
   "source": [
    "3 ** 2 ** 2"
   ]
  },
  {
   "cell_type": "code",
   "execution_count": 11,
   "metadata": {},
   "outputs": [],
   "source": [
    "def dalybos_regresija(skaicius):\n",
    "    skaicius /= 2\n",
    "    print(skaicius)\n",
    "    if skaicius > 1:\n",
    "        dalybos_regresija(skaicius)\n"
   ]
  },
  {
   "cell_type": "code",
   "execution_count": 12,
   "metadata": {},
   "outputs": [
    {
     "name": "stdout",
     "output_type": "stream",
     "text": [
      "5.5\n",
      "2.75\n",
      "1.375\n",
      "0.6875\n"
     ]
    }
   ],
   "source": [
    "dalybos_regresija(11)"
   ]
  },
  {
   "cell_type": "code",
   "execution_count": 13,
   "metadata": {},
   "outputs": [
    {
     "name": "stdout",
     "output_type": "stream",
     "text": [
      "61728.0\n",
      "30864.0\n",
      "15432.0\n",
      "7716.0\n",
      "3858.0\n",
      "1929.0\n",
      "964.5\n",
      "482.25\n",
      "241.125\n",
      "120.5625\n",
      "60.28125\n",
      "30.140625\n",
      "15.0703125\n",
      "7.53515625\n",
      "3.767578125\n",
      "1.8837890625\n",
      "0.94189453125\n"
     ]
    }
   ],
   "source": [
    "dalybos_regresija(123456)"
   ]
  },
  {
   "cell_type": "code",
   "execution_count": 14,
   "metadata": {},
   "outputs": [
    {
     "name": "stdout",
     "output_type": "stream",
     "text": [
      "25\n"
     ]
    }
   ],
   "source": [
    "def suma(skaicius1, skaicius2):\n",
    "    return skaicius1 + skaicius2\n",
    "\n",
    "print(suma(7, 18))"
   ]
  },
  {
   "cell_type": "code",
   "execution_count": 15,
   "metadata": {},
   "outputs": [],
   "source": [
    "def skaiciu_suma_ir_sandauga(a, b):\n",
    "    suma = a + b\n",
    "    sandauga = a * b\n",
    "    return suma, sandauga"
   ]
  },
  {
   "cell_type": "code",
   "execution_count": 16,
   "metadata": {},
   "outputs": [
    {
     "name": "stdout",
     "output_type": "stream",
     "text": [
      "(10, 21)\n"
     ]
    }
   ],
   "source": [
    "print(skaiciu_suma_ir_sandauga(3, 7))"
   ]
  },
  {
   "cell_type": "code",
   "execution_count": 17,
   "metadata": {},
   "outputs": [
    {
     "name": "stdout",
     "output_type": "stream",
     "text": [
      "11\n",
      "30\n"
     ]
    }
   ],
   "source": [
    "suma, sanudauga = skaiciu_suma_ir_sandauga(5, 6)\n",
    "print(suma)\n",
    "print(sanudauga)"
   ]
  },
  {
   "cell_type": "code",
   "execution_count": 18,
   "metadata": {},
   "outputs": [
    {
     "name": "stdout",
     "output_type": "stream",
     "text": [
      "[17, 3, 28, 5.2, 5]\n",
      "[-7, -91, -4, -11.11]\n"
     ]
    }
   ],
   "source": [
    "skaiciai = [17, -7, 3, 28, -91, -4, 5.2, -11.11, 5]\n",
    "\n",
    "def iskyrimas(skaiciai):\n",
    "    teigiami = []\n",
    "    neigiami = []\n",
    "    for skaicius in skaiciai:\n",
    "        if skaicius >= 0:\n",
    "            teigiami.append(skaicius)\n",
    "        else:\n",
    "            neigiami.append(skaicius)\n",
    "    return teigiami, neigiami\n",
    "\n",
    "rez_teigiami, rez_neigiami = iskyrimas(skaiciai)\n",
    "print(rez_teigiami)\n",
    "print(rez_neigiami)"
   ]
  },
  {
   "cell_type": "code",
   "execution_count": 19,
   "metadata": {},
   "outputs": [
    {
     "name": "stdout",
     "output_type": "stream",
     "text": [
      "[0, 1, 2, 3, 4, 5, 6, 7, 8, 9, 10, 11, 12, 13, 14, 15, 16, 17, 18, 19, 20, 21, 22, 23, 24, 25, 26, 27, 28, 29]\n"
     ]
    }
   ],
   "source": [
    "kiti_skaiciai = list(range(-20, 30))\n",
    "pliusiniai, minusianiai = iskyrimas(kiti_skaiciai)\n",
    "print(pliusiniai)"
   ]
  },
  {
   "cell_type": "code",
   "execution_count": 20,
   "metadata": {},
   "outputs": [
    {
     "name": "stdout",
     "output_type": "stream",
     "text": [
      "Labas Kestutis!\n",
      "Sveikas Kestutis!\n"
     ]
    }
   ],
   "source": [
    "def pasisveikinti(vardas, pasisveikinimas=\"Labas\"):\n",
    "    print(f\"{pasisveikinimas} {vardas}!\")\n",
    "\n",
    "pasisveikinti(\"Kestutis\")\n",
    "pasisveikinti(\"Kestutis\", \"Sveikas\")"
   ]
  },
  {
   "cell_type": "code",
   "execution_count": 21,
   "metadata": {},
   "outputs": [
    {
     "name": "stdout",
     "output_type": "stream",
     "text": [
      "121.0\n"
     ]
    }
   ],
   "source": [
    "def skaiciuoti_kaina(kaina, nuolaida=0, pvm=21):\n",
    "    kaina_su_nuolaida = kaina * (1 - nuolaida / 100)\n",
    "    kaina_su_pvm = kaina_su_nuolaida * (1 + pvm / 100)\n",
    "    return kaina_su_pvm\n",
    "\n",
    "print(skaiciuoti_kaina(100))"
   ]
  },
  {
   "cell_type": "code",
   "execution_count": 22,
   "metadata": {},
   "outputs": [
    {
     "name": "stdout",
     "output_type": "stream",
     "text": [
      "162.14\n"
     ]
    }
   ],
   "source": [
    "print(skaiciuoti_kaina(200, 33))"
   ]
  },
  {
   "cell_type": "code",
   "execution_count": 23,
   "metadata": {},
   "outputs": [
    {
     "name": "stdout",
     "output_type": "stream",
     "text": [
      "1.1\n"
     ]
    }
   ],
   "source": [
    "print(skaiciuoti_kaina(1, 0, 10))"
   ]
  },
  {
   "cell_type": "code",
   "execution_count": 24,
   "metadata": {},
   "outputs": [
    {
     "name": "stdout",
     "output_type": "stream",
     "text": [
      "1.1\n"
     ]
    }
   ],
   "source": [
    "print(skaiciuoti_kaina(1, pvm=10))"
   ]
  },
  {
   "cell_type": "code",
   "execution_count": 25,
   "metadata": {},
   "outputs": [
    {
     "name": "stdout",
     "output_type": "stream",
     "text": [
      "12.9107\n"
     ]
    }
   ],
   "source": [
    "kaina = 11\n",
    "nuolaida = 3\n",
    "kaina_su_pvm = skaiciuoti_kaina(kaina, nuolaida)\n",
    "print(kaina_su_pvm)"
   ]
  },
  {
   "cell_type": "code",
   "execution_count": 27,
   "metadata": {},
   "outputs": [
    {
     "name": "stdout",
     "output_type": "stream",
     "text": [
      "91\n",
      "81\n",
      "71\n",
      "61\n",
      "51\n",
      "41\n",
      "31\n",
      "21\n",
      "11\n",
      "1\n",
      "-9\n",
      "30\n",
      "27\n",
      "24\n",
      "21\n"
     ]
    }
   ],
   "source": [
    "def mazinti_iki(skaicius, po=10, iki=0):\n",
    "    skaicius -= po\n",
    "    if skaicius >= iki:\n",
    "        print(skaicius)\n",
    "        return mazinti_iki(skaicius, po, iki)\n",
    "    else:\n",
    "        return skaicius\n",
    "\n",
    "print(mazinti_iki(101))\n",
    "print(mazinti_iki(33, 3, 23))"
   ]
  },
  {
   "cell_type": "markdown",
   "metadata": {},
   "source": [
    "## funkcijos su args ir kwargs"
   ]
  },
  {
   "cell_type": "code",
   "execution_count": 1,
   "metadata": {},
   "outputs": [],
   "source": [
    "def spausdinti_argus(*args):\n",
    "    for arg in args:\n",
    "        print(arg, end=\" \")\n",
    "    print()"
   ]
  },
  {
   "cell_type": "code",
   "execution_count": 4,
   "metadata": {},
   "outputs": [
    {
     "name": "stdout",
     "output_type": "stream",
     "text": [
      "sveiki, kaip sekas? \n"
     ]
    }
   ],
   "source": [
    "spausdinti_argus(\"sveiki,\", \"kaip\", \"sekas?\")"
   ]
  },
  {
   "cell_type": "code",
   "execution_count": 7,
   "metadata": {},
   "outputs": [],
   "source": [
    "def spausdinti_argus2(*args, sep=\" \", end=\"\\n\"):\n",
    "    print(*args, sep=sep, end=end)"
   ]
  },
  {
   "cell_type": "code",
   "execution_count": 8,
   "metadata": {},
   "outputs": [
    {
     "name": "stdout",
     "output_type": "stream",
     "text": [
      "Nauja optimali argu spausdykle\n"
     ]
    }
   ],
   "source": [
    "spausdinti_argus2(\"Nauja\", \"optimali\", \"argu\", \"spausdykle\")"
   ]
  },
  {
   "cell_type": "code",
   "execution_count": 12,
   "metadata": {},
   "outputs": [
    {
     "name": "stdout",
     "output_type": "stream",
     "text": [
      "440\n"
     ]
    }
   ],
   "source": [
    "def sandauga(*args):\n",
    "    rezultatas = 1\n",
    "    for skaicius in args:\n",
    "        if type(skaicius) == int or type(skaicius) == float:\n",
    "            rezultatas *= skaicius\n",
    "    return rezultatas\n",
    "    \n",
    "print(sandauga(2, 2, 2, 5, 11))"
   ]
  },
  {
   "cell_type": "code",
   "execution_count": 13,
   "metadata": {},
   "outputs": [
    {
     "name": "stdout",
     "output_type": "stream",
     "text": [
      "1\n"
     ]
    }
   ],
   "source": [
    "print(sandauga())"
   ]
  },
  {
   "cell_type": "code",
   "execution_count": 17,
   "metadata": {},
   "outputs": [
    {
     "name": "stdout",
     "output_type": "stream",
     "text": [
      "labai apsiniaukes siandien oras 20 netraukia\n"
     ]
    }
   ],
   "source": [
    "def sujungti(*args, skirtukas=\" \"):\n",
    "    zodziai = list(args)\n",
    "    for index, zodis in enumerate(zodziai):\n",
    "        zodziai[index] = str(zodis)\n",
    "    return skirtukas.join(zodziai)\n",
    "\n",
    "print(sujungti(\"labai\", \"apsiniaukes\", \"siandien\", \"oras\", 20, \"netraukia\"))"
   ]
  },
  {
   "cell_type": "code",
   "execution_count": 18,
   "metadata": {},
   "outputs": [
    {
     "name": "stdout",
     "output_type": "stream",
     "text": [
      "[3.14, 7.88, 3.33333]\n"
     ]
    }
   ],
   "source": [
    "def tipo_filtras(tipas, *args):\n",
    "    filtruoti = []\n",
    "    for arg in args:\n",
    "        if type(arg) == tipas:\n",
    "            filtruoti.append(arg)\n",
    "    return filtruoti\n",
    "\n",
    "print(tipo_filtras(float, \"labas\", 3.14, 7.88, 123, -11, 3.33333))"
   ]
  },
  {
   "cell_type": "code",
   "execution_count": 21,
   "metadata": {},
   "outputs": [
    {
     "name": "stdout",
     "output_type": "stream",
     "text": [
      "[4, 6, 3, 6]\n"
     ]
    }
   ],
   "source": [
    "def ilgiai(*args):\n",
    "    rezultatas = []\n",
    "    for arg in args:\n",
    "        rezultatas.append(len(str(arg)))\n",
    "    return rezultatas\n",
    "\n",
    "print(ilgiai(\"daug\", \"graziu\", 100, \"dalyku\"))"
   ]
  },
  {
   "cell_type": "code",
   "execution_count": 23,
   "metadata": {},
   "outputs": [
    {
     "name": "stdout",
     "output_type": "stream",
     "text": [
      "77\n"
     ]
    }
   ],
   "source": [
    "def didziausias(*args):\n",
    "    rezultatas = args[0]\n",
    "    for arg in args:\n",
    "        if arg > rezultatas:\n",
    "            rezultatas = arg\n",
    "    return rezultatas\n",
    "\n",
    "print(didziausias(5, -2, 4, 77, 11, -10, -789))"
   ]
  },
  {
   "cell_type": "code",
   "execution_count": 24,
   "metadata": {},
   "outputs": [
    {
     "name": "stdout",
     "output_type": "stream",
     "text": [
      "6\n"
     ]
    }
   ],
   "source": [
    "print(didziausias(*ilgiai(\"daug\", \"graziu\", 100, \"dalyku\")))"
   ]
  },
  {
   "cell_type": "markdown",
   "metadata": {},
   "source": [
    "### kwargs"
   ]
  },
  {
   "cell_type": "code",
   "execution_count": 25,
   "metadata": {},
   "outputs": [
    {
     "name": "stdout",
     "output_type": "stream",
     "text": [
      "vardas    : Kestutis\n",
      "pavarde   : Januskevicius\n",
      "pareigos  : Smegenu mazgotojas\n"
     ]
    }
   ],
   "source": [
    "def zmogaus_info(**kwargs):\n",
    "    for raktas, reiksme in kwargs.items():\n",
    "        print(f\"{raktas:10}: {reiksme}\")\n",
    "\n",
    "zmogaus_info(vardas=\"Kestutis\", pavarde=\"Januskevicius\", pareigos=\"Smegenu mazgotojas\")"
   ]
  },
  {
   "cell_type": "code",
   "execution_count": 27,
   "metadata": {},
   "outputs": [
    {
     "name": "stdout",
     "output_type": "stream",
     "text": [
      "vardas    : Gerule\n",
      "pavarde   : Panike\n",
      "amzius    : 19\n",
      "tipas     : paselusi\n"
     ]
    }
   ],
   "source": [
    "zmogaus_info(vardas=\"Gerule\", pavarde=\"Panike\", amzius=19, tipas=\"paselusi\")"
   ]
  },
  {
   "cell_type": "code",
   "execution_count": 35,
   "metadata": {},
   "outputs": [],
   "source": [
    "def saskaita(**produktai):\n",
    "    suma = 0\n",
    "    for produktas, kaina in produktai.items():\n",
    "        suma += kaina\n",
    "        print(f\"{produktas:16} | {kaina:>10.2f}\")\n",
    "    print(f\"{'VISO':16} | {suma:>10.2f}\")"
   ]
  },
  {
   "cell_type": "code",
   "execution_count": 36,
   "metadata": {},
   "outputs": [
    {
     "name": "stdout",
     "output_type": "stream",
     "text": [
      "pienas           |       2.20\n",
      "kiausiniai       |       7.00\n",
      "uogiene          |       3.50\n",
      "majonezas        |       2.19\n",
      "VISO             |      14.89\n"
     ]
    }
   ],
   "source": [
    "saskaita(\n",
    "    pienas=2.20,\n",
    "    kiausiniai=7,\n",
    "    uogiene=3.5,\n",
    "    majonezas=2.19\n",
    ")"
   ]
  },
  {
   "cell_type": "code",
   "execution_count": 37,
   "metadata": {},
   "outputs": [
    {
     "name": "stdout",
     "output_type": "stream",
     "text": [
      "pienas           |       2.11\n",
      "kiausiniai       |       5.20\n",
      "VISO             |       7.31\n"
     ]
    }
   ],
   "source": [
    "produktai = {\n",
    "    'pienas':2.11,\n",
    "    'kiausiniai':5.2\n",
    "}\n",
    "\n",
    "saskaita(**produktai)"
   ]
  },
  {
   "cell_type": "code",
   "execution_count": 39,
   "metadata": {},
   "outputs": [
    {
     "name": "stdout",
     "output_type": "stream",
     "text": [
      "Vardas: Jonas\n",
      "miestas: Vilnius\n",
      "amzius: 30\n",
      "linksmas\n",
      "draugiškas\n",
      "drąsus\n"
     ]
    }
   ],
   "source": [
    "def spausdinti_argumentus(vardas, *args, **kwargs):\n",
    "    print(f\"Vardas: {vardas}\")\n",
    "    for key, value in kwargs.items():\n",
    "        print(f\"{key}: {value}\")\n",
    "    for arg in args:\n",
    "        print(arg)\n",
    "\n",
    "spausdinti_argumentus(\"Jonas\", \"linksmas\", \"draugiškas\", \"drąsus\", miestas=\"Vilnius\", amzius=30)"
   ]
  },
  {
   "cell_type": "code",
   "execution_count": 41,
   "metadata": {},
   "outputs": [
    {
     "name": "stdout",
     "output_type": "stream",
     "text": [
      "Vardas: Kibiras\n",
      "talpa: 20L\n",
      "kiauras\n"
     ]
    }
   ],
   "source": [
    "spausdinti_argumentus(\"Kibiras\", \"kiauras\", talpa=\"20L\")"
   ]
  },
  {
   "cell_type": "code",
   "execution_count": 45,
   "metadata": {},
   "outputs": [
    {
     "name": "stdout",
     "output_type": "stream",
     "text": [
      "didelis\n",
      "pasaulis buvo: didelis\n",
      "dabar pasaulis liko: mazas\n",
      "Koks isliko pasaulis? didelis\n"
     ]
    }
   ],
   "source": [
    "pasaulis = \"didelis\"\n",
    "print(pasaulis)\n",
    "\n",
    "def vietinis(pasaulis):\n",
    "    print(f\"pasaulis buvo: {pasaulis}\")\n",
    "    pasaulis = \"mazas\"\n",
    "    print(f\"dabar pasaulis liko: {pasaulis}\")\n",
    "\n",
    "vietinis(pasaulis)\n",
    "print(f\"Koks isliko pasaulis? {pasaulis}\")"
   ]
  },
  {
   "cell_type": "code",
   "execution_count": 47,
   "metadata": {},
   "outputs": [
    {
     "name": "stdout",
     "output_type": "stream",
     "text": [
      "didelis\n",
      "pasaulis buvo: didelis\n",
      "dabar pasaulis liko: mazas\n",
      "Koks isliko pasaulis? mazas\n"
     ]
    }
   ],
   "source": [
    "pasaulis = \"didelis\"\n",
    "print(pasaulis)\n",
    "\n",
    "def vietinis():\n",
    "    global pasaulis\n",
    "    print(f\"pasaulis buvo: {pasaulis}\")\n",
    "    pasaulis = \"mazas\"\n",
    "    print(f\"dabar pasaulis liko: {pasaulis}\")\n",
    "\n",
    "vietinis()\n",
    "print(f\"Koks isliko pasaulis? {pasaulis}\")"
   ]
  },
  {
   "cell_type": "code",
   "execution_count": 48,
   "metadata": {},
   "outputs": [
    {
     "name": "stdout",
     "output_type": "stream",
     "text": [
      "5\n"
     ]
    }
   ],
   "source": [
    "suma = lambda skaicius1, skaicius2: skaicius1 + skaicius2\n",
    "print(suma(2, 3))"
   ]
  },
  {
   "cell_type": "code",
   "execution_count": 52,
   "metadata": {},
   "outputs": [
    {
     "name": "stdout",
     "output_type": "stream",
     "text": [
      "(4, 36, 49, 9)\n"
     ]
    }
   ],
   "source": [
    "print(tuple(map(lambda skaicius: skaicius ** 2, [2, 6, 7, 3])))"
   ]
  },
  {
   "cell_type": "code",
   "execution_count": 55,
   "metadata": {},
   "outputs": [
    {
     "name": "stdout",
     "output_type": "stream",
     "text": [
      "['alus', 'duona', 'cukrus', 'česnakas', 'jogurtas', 'baravykas']\n"
     ]
    }
   ],
   "source": [
    "zodziai = ['alus', 'baravykas', 'duona', \"česnakas\", 'cukrus', 'jogurtas']\n",
    "pagal_ilgi = sorted(zodziai, key=lambda zodis: len(zodis))\n",
    "print(pagal_ilgi)"
   ]
  },
  {
   "cell_type": "code",
   "execution_count": 58,
   "metadata": {},
   "outputs": [
    {
     "name": "stdout",
     "output_type": "stream",
     "text": [
      "[2, 4, 6, 8, 10]\n"
     ]
    }
   ],
   "source": [
    "skaiciai = list(range(1, 11))\n",
    "lyginiai = list(filter(lambda skaicius: skaicius % 2 == 0, skaiciai))\n",
    "print(lyginiai)"
   ]
  },
  {
   "cell_type": "code",
   "execution_count": 60,
   "metadata": {},
   "outputs": [
    {
     "name": "stdout",
     "output_type": "stream",
     "text": [
      "['alus', 'duona', 'cukrus', 'jogurtas']\n"
     ]
    }
   ],
   "source": [
    "zodziai\n",
    "su_u = list(filter(lambda zodis: 'u' in zodis, zodziai))\n",
    "print(su_u)"
   ]
  }
 ],
 "metadata": {
  "kernelspec": {
   "display_name": "venv",
   "language": "python",
   "name": "python3"
  },
  "language_info": {
   "codemirror_mode": {
    "name": "ipython",
    "version": 3
   },
   "file_extension": ".py",
   "mimetype": "text/x-python",
   "name": "python",
   "nbconvert_exporter": "python",
   "pygments_lexer": "ipython3",
   "version": "3.10.12"
  },
  "orig_nbformat": 4
 },
 "nbformat": 4,
 "nbformat_minor": 2
}
