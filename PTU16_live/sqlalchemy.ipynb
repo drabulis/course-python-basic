{
 "cells": [
  {
   "cell_type": "code",
   "execution_count": 2,
   "metadata": {},
   "outputs": [],
   "source": [
    "from sqlalchemy import create_engine\n",
    "from sqlalchemy.orm import sessionmaker, declarative_base\n",
    "\n",
    "engine = create_engine('sqlite:///db/projektai.db')\n",
    "Base = declarative_base()\n",
    "session = sessionmaker(engine)()"
   ]
  },
  {
   "cell_type": "code",
   "execution_count": 5,
   "metadata": {},
   "outputs": [
    {
     "name": "stderr",
     "output_type": "stream",
     "text": [
      "/tmp/ipykernel_9743/960807992.py:5: SAWarning: This declarative base already contains a class with the same class name and module name as __main__.Projektas, and will be replaced in the string-lookup table.\n",
      "  class Projektas(Base):\n"
     ]
    },
    {
     "ename": "InvalidRequestError",
     "evalue": "Table 'Porojektas' is already defined for this MetaData instance.  Specify 'extend_existing=True' to redefine options and columns on an existing Table object.",
     "output_type": "error",
     "traceback": [
      "\u001b[0;31m---------------------------------------------------------------------------\u001b[0m",
      "\u001b[0;31mInvalidRequestError\u001b[0m                       Traceback (most recent call last)",
      "\u001b[1;32m/home/kestas/codeacademy/course-python-basic/PTU16_live/sqlalchemy.ipynb Cell 2\u001b[0m line \u001b[0;36m5\n\u001b[1;32m      <a href='vscode-notebook-cell://wsl%2Bubuntu/home/kestas/codeacademy/course-python-basic/PTU16_live/sqlalchemy.ipynb#W1sdnNjb2RlLXJlbW90ZQ%3D%3D?line=0'>1</a>\u001b[0m \u001b[39mfrom\u001b[39;00m \u001b[39mdatetime\u001b[39;00m \u001b[39mimport\u001b[39;00m datetime\n\u001b[1;32m      <a href='vscode-notebook-cell://wsl%2Bubuntu/home/kestas/codeacademy/course-python-basic/PTU16_live/sqlalchemy.ipynb#W1sdnNjb2RlLXJlbW90ZQ%3D%3D?line=1'>2</a>\u001b[0m \u001b[39mfrom\u001b[39;00m \u001b[39msqlalchemy\u001b[39;00m \u001b[39mimport\u001b[39;00m Column, Integer, String, Float, DateTime\n\u001b[0;32m----> <a href='vscode-notebook-cell://wsl%2Bubuntu/home/kestas/codeacademy/course-python-basic/PTU16_live/sqlalchemy.ipynb#W1sdnNjb2RlLXJlbW90ZQ%3D%3D?line=4'>5</a>\u001b[0m \u001b[39mclass\u001b[39;00m \u001b[39mProjektas\u001b[39;00m(Base):\n\u001b[1;32m      <a href='vscode-notebook-cell://wsl%2Bubuntu/home/kestas/codeacademy/course-python-basic/PTU16_live/sqlalchemy.ipynb#W1sdnNjb2RlLXJlbW90ZQ%3D%3D?line=5'>6</a>\u001b[0m     __tablename__ \u001b[39m=\u001b[39m \u001b[39m\"\u001b[39m\u001b[39mPorojektas\u001b[39m\u001b[39m\"\u001b[39m\n\u001b[1;32m      <a href='vscode-notebook-cell://wsl%2Bubuntu/home/kestas/codeacademy/course-python-basic/PTU16_live/sqlalchemy.ipynb#W1sdnNjb2RlLXJlbW90ZQ%3D%3D?line=6'>7</a>\u001b[0m     \u001b[39mid\u001b[39m \u001b[39m=\u001b[39m Column(Integer, primary_key\u001b[39m=\u001b[39m\u001b[39mTrue\u001b[39;00m)\n",
      "File \u001b[0;32m~/codeacademy/course-python-basic/venv/lib/python3.10/site-packages/sqlalchemy/orm/decl_api.py:193\u001b[0m, in \u001b[0;36mDeclarativeMeta.__init__\u001b[0;34m(cls, classname, bases, dict_, **kw)\u001b[0m\n\u001b[1;32m    190\u001b[0m         \u001b[39mcls\u001b[39m\u001b[39m.\u001b[39m_sa_registry \u001b[39m=\u001b[39m reg\n\u001b[1;32m    192\u001b[0m \u001b[39mif\u001b[39;00m \u001b[39mnot\u001b[39;00m \u001b[39mcls\u001b[39m\u001b[39m.\u001b[39m\u001b[39m__dict__\u001b[39m\u001b[39m.\u001b[39mget(\u001b[39m\"\u001b[39m\u001b[39m__abstract__\u001b[39m\u001b[39m\"\u001b[39m, \u001b[39mFalse\u001b[39;00m):\n\u001b[0;32m--> 193\u001b[0m     _as_declarative(reg, \u001b[39mcls\u001b[39;49m, dict_)\n\u001b[1;32m    194\u001b[0m \u001b[39mtype\u001b[39m\u001b[39m.\u001b[39m\u001b[39m__init__\u001b[39m(\u001b[39mcls\u001b[39m, classname, bases, dict_)\n",
      "File \u001b[0;32m~/codeacademy/course-python-basic/venv/lib/python3.10/site-packages/sqlalchemy/orm/decl_base.py:248\u001b[0m, in \u001b[0;36m_as_declarative\u001b[0;34m(registry, cls, dict_)\u001b[0m\n\u001b[1;32m    242\u001b[0m \u001b[39mdef\u001b[39;00m \u001b[39m_as_declarative\u001b[39m(\n\u001b[1;32m    243\u001b[0m     registry: _RegistryType, \u001b[39mcls\u001b[39m: Type[Any], dict_: _ClassDict\n\u001b[1;32m    244\u001b[0m ) \u001b[39m-\u001b[39m\u001b[39m>\u001b[39m Optional[_MapperConfig]:\n\u001b[1;32m    245\u001b[0m \n\u001b[1;32m    246\u001b[0m     \u001b[39m# declarative scans the class for attributes.  no table or mapper\u001b[39;00m\n\u001b[1;32m    247\u001b[0m     \u001b[39m# args passed separately.\u001b[39;00m\n\u001b[0;32m--> 248\u001b[0m     \u001b[39mreturn\u001b[39;00m _MapperConfig\u001b[39m.\u001b[39;49msetup_mapping(registry, \u001b[39mcls\u001b[39;49m, dict_, \u001b[39mNone\u001b[39;49;00m, {})\n",
      "File \u001b[0;32m~/codeacademy/course-python-basic/venv/lib/python3.10/site-packages/sqlalchemy/orm/decl_base.py:329\u001b[0m, in \u001b[0;36m_MapperConfig.setup_mapping\u001b[0;34m(cls, registry, cls_, dict_, table, mapper_kw)\u001b[0m\n\u001b[1;32m    325\u001b[0m     \u001b[39mreturn\u001b[39;00m _DeferredMapperConfig(\n\u001b[1;32m    326\u001b[0m         registry, cls_, dict_, table, mapper_kw\n\u001b[1;32m    327\u001b[0m     )\n\u001b[1;32m    328\u001b[0m \u001b[39melse\u001b[39;00m:\n\u001b[0;32m--> 329\u001b[0m     \u001b[39mreturn\u001b[39;00m _ClassScanMapperConfig(\n\u001b[1;32m    330\u001b[0m         registry, cls_, dict_, table, mapper_kw\n\u001b[1;32m    331\u001b[0m     )\n",
      "File \u001b[0;32m~/codeacademy/course-python-basic/venv/lib/python3.10/site-packages/sqlalchemy/orm/decl_base.py:581\u001b[0m, in \u001b[0;36m_ClassScanMapperConfig.__init__\u001b[0;34m(self, registry, cls_, dict_, table, mapper_kw)\u001b[0m\n\u001b[1;32m    577\u001b[0m \u001b[39mself\u001b[39m\u001b[39m.\u001b[39m_extract_mappable_attributes()\n\u001b[1;32m    579\u001b[0m \u001b[39mself\u001b[39m\u001b[39m.\u001b[39m_extract_declared_columns()\n\u001b[0;32m--> 581\u001b[0m \u001b[39mself\u001b[39;49m\u001b[39m.\u001b[39;49m_setup_table(table)\n\u001b[1;32m    583\u001b[0m \u001b[39mself\u001b[39m\u001b[39m.\u001b[39m_setup_inheriting_columns(mapper_kw)\n\u001b[1;32m    585\u001b[0m \u001b[39mself\u001b[39m\u001b[39m.\u001b[39m_early_mapping(mapper_kw)\n",
      "File \u001b[0;32m~/codeacademy/course-python-basic/venv/lib/python3.10/site-packages/sqlalchemy/orm/decl_base.py:1735\u001b[0m, in \u001b[0;36m_ClassScanMapperConfig._setup_table\u001b[0;34m(self, table)\u001b[0m\n\u001b[1;32m   1727\u001b[0m             table_kw[\u001b[39m\"\u001b[39m\u001b[39mautoload\u001b[39m\u001b[39m\"\u001b[39m] \u001b[39m=\u001b[39m \u001b[39mTrue\u001b[39;00m\n\u001b[1;32m   1729\u001b[0m         sorted_columns \u001b[39m=\u001b[39m \u001b[39msorted\u001b[39m(\n\u001b[1;32m   1730\u001b[0m             declared_columns,\n\u001b[1;32m   1731\u001b[0m             key\u001b[39m=\u001b[39m\u001b[39mlambda\u001b[39;00m c: column_ordering\u001b[39m.\u001b[39mget(c, \u001b[39m0\u001b[39m),\n\u001b[1;32m   1732\u001b[0m         )\n\u001b[1;32m   1733\u001b[0m         table \u001b[39m=\u001b[39m \u001b[39mself\u001b[39m\u001b[39m.\u001b[39mset_cls_attribute(\n\u001b[1;32m   1734\u001b[0m             \u001b[39m\"\u001b[39m\u001b[39m__table__\u001b[39m\u001b[39m\"\u001b[39m,\n\u001b[0;32m-> 1735\u001b[0m             table_cls(\n\u001b[1;32m   1736\u001b[0m                 tablename,\n\u001b[1;32m   1737\u001b[0m                 \u001b[39mself\u001b[39;49m\u001b[39m.\u001b[39;49m_metadata_for_cls(manager),\n\u001b[1;32m   1738\u001b[0m                 \u001b[39m*\u001b[39;49msorted_columns,\n\u001b[1;32m   1739\u001b[0m                 \u001b[39m*\u001b[39;49margs,\n\u001b[1;32m   1740\u001b[0m                 \u001b[39m*\u001b[39;49m\u001b[39m*\u001b[39;49mtable_kw,\n\u001b[1;32m   1741\u001b[0m             ),\n\u001b[1;32m   1742\u001b[0m         )\n\u001b[1;32m   1743\u001b[0m \u001b[39melse\u001b[39;00m:\n\u001b[1;32m   1744\u001b[0m     \u001b[39mif\u001b[39;00m table \u001b[39mis\u001b[39;00m \u001b[39mNone\u001b[39;00m:\n",
      "File \u001b[0;32m<string>:2\u001b[0m, in \u001b[0;36m__new__\u001b[0;34m(cls, *args, **kw)\u001b[0m\n",
      "File \u001b[0;32m~/codeacademy/course-python-basic/venv/lib/python3.10/site-packages/sqlalchemy/util/deprecations.py:283\u001b[0m, in \u001b[0;36mdeprecated_params.<locals>.decorate.<locals>.warned\u001b[0;34m(fn, *args, **kwargs)\u001b[0m\n\u001b[1;32m    276\u001b[0m     \u001b[39mif\u001b[39;00m m \u001b[39min\u001b[39;00m kwargs:\n\u001b[1;32m    277\u001b[0m         _warn_with_version(\n\u001b[1;32m    278\u001b[0m             messages[m],\n\u001b[1;32m    279\u001b[0m             versions[m],\n\u001b[1;32m    280\u001b[0m             version_warnings[m],\n\u001b[1;32m    281\u001b[0m             stacklevel\u001b[39m=\u001b[39m\u001b[39m3\u001b[39m,\n\u001b[1;32m    282\u001b[0m         )\n\u001b[0;32m--> 283\u001b[0m \u001b[39mreturn\u001b[39;00m fn(\u001b[39m*\u001b[39;49margs, \u001b[39m*\u001b[39;49m\u001b[39m*\u001b[39;49mkwargs)\n",
      "File \u001b[0;32m~/codeacademy/course-python-basic/venv/lib/python3.10/site-packages/sqlalchemy/sql/schema.py:435\u001b[0m, in \u001b[0;36mTable.__new__\u001b[0;34m(cls, *args, **kw)\u001b[0m\n\u001b[1;32m    428\u001b[0m \u001b[39m@util\u001b[39m\u001b[39m.\u001b[39mdeprecated_params(\n\u001b[1;32m    429\u001b[0m     mustexist\u001b[39m=\u001b[39m(\n\u001b[1;32m    430\u001b[0m         \u001b[39m\"\u001b[39m\u001b[39m1.4\u001b[39m\u001b[39m\"\u001b[39m,\n\u001b[0;32m   (...)\u001b[0m\n\u001b[1;32m    433\u001b[0m )\n\u001b[1;32m    434\u001b[0m \u001b[39mdef\u001b[39;00m \u001b[39m__new__\u001b[39m(\u001b[39mcls\u001b[39m, \u001b[39m*\u001b[39margs: Any, \u001b[39m*\u001b[39m\u001b[39m*\u001b[39mkw: Any) \u001b[39m-\u001b[39m\u001b[39m>\u001b[39m Any:\n\u001b[0;32m--> 435\u001b[0m     \u001b[39mreturn\u001b[39;00m \u001b[39mcls\u001b[39;49m\u001b[39m.\u001b[39;49m_new(\u001b[39m*\u001b[39;49margs, \u001b[39m*\u001b[39;49m\u001b[39m*\u001b[39;49mkw)\n",
      "File \u001b[0;32m~/codeacademy/course-python-basic/venv/lib/python3.10/site-packages/sqlalchemy/sql/schema.py:467\u001b[0m, in \u001b[0;36mTable._new\u001b[0;34m(cls, *args, **kw)\u001b[0m\n\u001b[1;32m    465\u001b[0m \u001b[39mif\u001b[39;00m key \u001b[39min\u001b[39;00m metadata\u001b[39m.\u001b[39mtables:\n\u001b[1;32m    466\u001b[0m     \u001b[39mif\u001b[39;00m \u001b[39mnot\u001b[39;00m keep_existing \u001b[39mand\u001b[39;00m \u001b[39mnot\u001b[39;00m extend_existing \u001b[39mand\u001b[39;00m \u001b[39mbool\u001b[39m(args):\n\u001b[0;32m--> 467\u001b[0m         \u001b[39mraise\u001b[39;00m exc\u001b[39m.\u001b[39mInvalidRequestError(\n\u001b[1;32m    468\u001b[0m             \u001b[39m\"\u001b[39m\u001b[39mTable \u001b[39m\u001b[39m'\u001b[39m\u001b[39m%s\u001b[39;00m\u001b[39m'\u001b[39m\u001b[39m is already defined for this MetaData \u001b[39m\u001b[39m\"\u001b[39m\n\u001b[1;32m    469\u001b[0m             \u001b[39m\"\u001b[39m\u001b[39minstance.  Specify \u001b[39m\u001b[39m'\u001b[39m\u001b[39mextend_existing=True\u001b[39m\u001b[39m'\u001b[39m\u001b[39m \u001b[39m\u001b[39m\"\u001b[39m\n\u001b[1;32m    470\u001b[0m             \u001b[39m\"\u001b[39m\u001b[39mto redefine \u001b[39m\u001b[39m\"\u001b[39m\n\u001b[1;32m    471\u001b[0m             \u001b[39m\"\u001b[39m\u001b[39moptions and columns on an \u001b[39m\u001b[39m\"\u001b[39m\n\u001b[1;32m    472\u001b[0m             \u001b[39m\"\u001b[39m\u001b[39mexisting Table object.\u001b[39m\u001b[39m\"\u001b[39m \u001b[39m%\u001b[39m key\n\u001b[1;32m    473\u001b[0m         )\n\u001b[1;32m    474\u001b[0m     table \u001b[39m=\u001b[39m metadata\u001b[39m.\u001b[39mtables[key]\n\u001b[1;32m    475\u001b[0m     \u001b[39mif\u001b[39;00m extend_existing:\n",
      "\u001b[0;31mInvalidRequestError\u001b[0m: Table 'Porojektas' is already defined for this MetaData instance.  Specify 'extend_existing=True' to redefine options and columns on an existing Table object."
     ]
    }
   ],
   "source": [
    "from datetime import datetime\n",
    "from sqlalchemy import Column, Integer, String, Float, DateTime\n",
    "\n",
    "\n",
    "class Projektas(Base):\n",
    "    __tablename__ = \"Porojektas\"\n",
    "    id = Column(Integer, primary_key=True)\n",
    "    pavadinimas = Column(\"pavadinimas\", String(50))\n",
    "    kaina = Column(\"kaina\", Float())\n",
    "    sukurta = Column(\"sukurta\", DateTime, default=datetime.utcnow)\n",
    "\n",
    "    def __init__(self, pavadinimas, kaina):\n",
    "        self.pavadinimas = pavadinimas\n",
    "        self.kaina = kaina\n",
    "\n",
    "    def __repr__(self):\n",
    "        return f\"({self.id}, {self.pavadinimas}, {self.kaina}, {self.sukurta})\"\n",
    "\n",
    "\n",
    "Base.metadata.create_all(engine)"
   ]
  },
  {
   "cell_type": "markdown",
   "metadata": {},
   "source": [
    "### INSERT"
   ]
  },
  {
   "cell_type": "code",
   "execution_count": 4,
   "metadata": {},
   "outputs": [],
   "source": [
    "gka = Projektas(\"Gero Kodo Akademija\", 0)\n",
    "session.add(gka)\n",
    "session.commit()"
   ]
  },
  {
   "cell_type": "code",
   "execution_count": 7,
   "metadata": {},
   "outputs": [],
   "source": [
    "sandeliukas = Projektas(\"Sandeliukas 3.0\", 17300)\n",
    "session.add(sandeliukas)\n",
    "session.commit()"
   ]
  },
  {
   "cell_type": "code",
   "execution_count": 18,
   "metadata": {},
   "outputs": [],
   "source": [
    "nepaejes = Projektas(\"Kreiva Programulka\", 700)\n",
    "session.add(nepaejes)\n",
    "session.commit()"
   ]
  },
  {
   "cell_type": "code",
   "execution_count": 8,
   "metadata": {},
   "outputs": [
    {
     "name": "stdout",
     "output_type": "stream",
     "text": [
      "(1, Gero Kodo Akademija, 0.0, 2023-09-15 06:48:41.028032)\n",
      "(2, Sandeliukas 3.0, 17300.0, 2023-09-15 06:56:05.609364)\n"
     ]
    }
   ],
   "source": [
    "print(gka)\n",
    "print(sandeliukas)"
   ]
  },
  {
   "cell_type": "markdown",
   "metadata": {},
   "source": [
    "### SELECT'ai"
   ]
  },
  {
   "cell_type": "code",
   "execution_count": 11,
   "metadata": {},
   "outputs": [
    {
     "name": "stdout",
     "output_type": "stream",
     "text": [
      "(2, Sandeliukas 3.0, 17300.0, 2023-09-15 06:56:05.609364)\n"
     ]
    }
   ],
   "source": [
    "projektas = session.get(Projektas, 2)\n",
    "print(projektas)"
   ]
  },
  {
   "cell_type": "code",
   "execution_count": 21,
   "metadata": {},
   "outputs": [
    {
     "name": "stdout",
     "output_type": "stream",
     "text": [
      "[(1, Gero Kodo Akademija, 50000.0, 2023-09-15 06:48:41.028032), (2, Sandeliukas 3.0, 17300.0, 2023-09-15 06:56:05.609364)]\n"
     ]
    }
   ],
   "source": [
    "projektai = session.query(Projektas).all()\n",
    "print(projektai)"
   ]
  },
  {
   "cell_type": "code",
   "execution_count": 15,
   "metadata": {},
   "outputs": [
    {
     "name": "stdout",
     "output_type": "stream",
     "text": [
      "[(1, Gero Kodo Akademija, 0.0, 2023-09-15 06:48:41.028032)]\n"
     ]
    }
   ],
   "source": [
    "nemokami = session.query(Projektas).filter(Projektas.kaina == 0).all()\n",
    "print(nemokami)"
   ]
  },
  {
   "cell_type": "markdown",
   "metadata": {},
   "source": [
    "### UPDATE"
   ]
  },
  {
   "cell_type": "code",
   "execution_count": 16,
   "metadata": {},
   "outputs": [],
   "source": [
    "gka.kaina = 50000\n",
    "session.add(gka)\n",
    "session.commit()"
   ]
  },
  {
   "cell_type": "markdown",
   "metadata": {},
   "source": [
    "### DELETE"
   ]
  },
  {
   "cell_type": "code",
   "execution_count": 20,
   "metadata": {},
   "outputs": [],
   "source": [
    "kreiva = session.get(Projektas, 3)\n",
    "session.delete(kreiva)\n",
    "session.commit()"
   ]
  }
 ],
 "metadata": {
  "kernelspec": {
   "display_name": "venv",
   "language": "python",
   "name": "python3"
  },
  "language_info": {
   "codemirror_mode": {
    "name": "ipython",
    "version": 3
   },
   "file_extension": ".py",
   "mimetype": "text/x-python",
   "name": "python",
   "nbconvert_exporter": "python",
   "pygments_lexer": "ipython3",
   "version": "3.10.12"
  },
  "orig_nbformat": 4
 },
 "nbformat": 4,
 "nbformat_minor": 2
}
