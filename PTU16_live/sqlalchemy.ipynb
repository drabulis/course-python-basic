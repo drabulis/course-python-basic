{
 "cells": [
  {
   "cell_type": "code",
   "execution_count": 2,
   "metadata": {},
   "outputs": [],
   "source": [
    "from sqlalchemy import create_engine\n",
    "from sqlalchemy.orm import sessionmaker, declarative_base\n",
    "\n",
    "engine = create_engine('sqlite:///db/projektai.db')\n",
    "Base = declarative_base()\n",
    "session = sessionmaker(engine)()"
   ]
  },
  {
   "cell_type": "code",
   "execution_count": 3,
   "metadata": {},
   "outputs": [],
   "source": [
    "from datetime import datetime\n",
    "from sqlalchemy import Column, Integer, String, Float, DateTime"
   ]
  },
  {
   "cell_type": "code",
   "execution_count": 4,
   "metadata": {},
   "outputs": [],
   "source": [
    "from sqlalchemy.orm import relationship\n",
    "from sqlalchemy import ForeignKey"
   ]
  },
  {
   "cell_type": "markdown",
   "metadata": {},
   "source": [
    "## Projektai - single table DB"
   ]
  },
  {
   "cell_type": "code",
   "execution_count": null,
   "metadata": {},
   "outputs": [],
   "source": [
    "class Projektas(Base):\n",
    "    __tablename__ = \"Porojektas\"\n",
    "    id = Column(Integer, primary_key=True)\n",
    "    pavadinimas = Column(\"pavadinimas\", String(50))\n",
    "    kaina = Column(\"kaina\", Float())\n",
    "    sukurta = Column(\"sukurta\", DateTime, default=datetime.utcnow)\n",
    "\n",
    "    def __init__(self, pavadinimas, kaina):\n",
    "        self.pavadinimas = pavadinimas\n",
    "        self.kaina = kaina\n",
    "\n",
    "    def __repr__(self):\n",
    "        return f\"({self.id}, {self.pavadinimas}, {self.kaina}, {self.sukurta})\"\n",
    "\n",
    "\n",
    "Base.metadata.create_all(engine)"
   ]
  },
  {
   "cell_type": "markdown",
   "metadata": {},
   "source": [
    "### INSERT"
   ]
  },
  {
   "cell_type": "code",
   "execution_count": null,
   "metadata": {},
   "outputs": [],
   "source": [
    "gka = Projektas(\"Gero Kodo Akademija\", 0)\n",
    "session.add(gka)\n",
    "session.commit()"
   ]
  },
  {
   "cell_type": "code",
   "execution_count": null,
   "metadata": {},
   "outputs": [],
   "source": [
    "sandeliukas = Projektas(\"Sandeliukas 3.0\", 17300)\n",
    "session.add(sandeliukas)\n",
    "session.commit()"
   ]
  },
  {
   "cell_type": "code",
   "execution_count": null,
   "metadata": {},
   "outputs": [],
   "source": [
    "nepaejes = Projektas(\"Kreiva Programulka\", 700)\n",
    "session.add(nepaejes)\n",
    "session.commit()"
   ]
  },
  {
   "cell_type": "code",
   "execution_count": null,
   "metadata": {},
   "outputs": [],
   "source": [
    "print(gka)\n",
    "print(sandeliukas)"
   ]
  },
  {
   "cell_type": "markdown",
   "metadata": {},
   "source": [
    "### SELECT'ai"
   ]
  },
  {
   "cell_type": "code",
   "execution_count": null,
   "metadata": {},
   "outputs": [],
   "source": [
    "projektas = session.get(Projektas, 2)\n",
    "print(projektas)"
   ]
  },
  {
   "cell_type": "code",
   "execution_count": null,
   "metadata": {},
   "outputs": [],
   "source": [
    "projektai = session.query(Projektas).all()\n",
    "print(projektai)"
   ]
  },
  {
   "cell_type": "code",
   "execution_count": null,
   "metadata": {},
   "outputs": [],
   "source": [
    "nemokami = session.query(Projektas).filter(Projektas.kaina == 0).all()\n",
    "print(nemokami)"
   ]
  },
  {
   "cell_type": "markdown",
   "metadata": {},
   "source": [
    "### UPDATE"
   ]
  },
  {
   "cell_type": "code",
   "execution_count": null,
   "metadata": {},
   "outputs": [],
   "source": [
    "gka.kaina = 50000\n",
    "session.add(gka)\n",
    "session.commit()"
   ]
  },
  {
   "cell_type": "markdown",
   "metadata": {},
   "source": [
    "### DELETE"
   ]
  },
  {
   "cell_type": "code",
   "execution_count": null,
   "metadata": {},
   "outputs": [],
   "source": [
    "kreiva = session.get(Projektas, 3)\n",
    "session.delete(kreiva)\n",
    "session.commit()"
   ]
  },
  {
   "cell_type": "markdown",
   "metadata": {},
   "source": [
    "## Relationships (tevai/vaikai)"
   ]
  },
  {
   "cell_type": "code",
   "execution_count": null,
   "metadata": {},
   "outputs": [],
   "source": [
    "m21_engine = create_engine('sqlite:///db/m21_tevai_vaikai.db')\n",
    "m21_session = sessionmaker(m21_engine)()\n",
    "BaseM21 = declarative_base()\n",
    "\n",
    "\n",
    "class Vaikas(BaseM21):\n",
    "    __tablename__ = \"vaikas\"\n",
    "    id = Column(Integer, primary_key=True)\n",
    "    vardas = Column(\"vardas\", String(50))\n",
    "    pavarde = Column(\"pavarde\", String(50))\n",
    "    mokykla = Column(\"mokykla\", String(50))\n",
    "    tevai = relationship(\"Tevas\", back_populates='vaikas')\n",
    "\n",
    "    def __repr__(self):\n",
    "        return f\"({self.vardas}, {self.pavarde}, {self.mokykla})\"\n",
    "\n",
    "\n",
    "class Tevas(BaseM21):\n",
    "    __tablename__ = \"tevas\"\n",
    "    id = Column(Integer, primary_key=True)\n",
    "    vardas = Column(\"vardas\", String(50))\n",
    "    pavarde = Column(\"pavarde\", String(50))\n",
    "    vaikas_id = Column(Integer, ForeignKey('vaikas.id'))\n",
    "    vaikas = relationship(\"Vaikas\", back_populates='tevai')\n",
    "\n",
    "    def __repr__(self):\n",
    "        return f\"({self.vardas}, {self.pavarde})\"\n",
    "\n",
    "\n",
    "BaseM21.metadata.create_all(m21_engine)"
   ]
  },
  {
   "cell_type": "code",
   "execution_count": null,
   "metadata": {},
   "outputs": [],
   "source": [
    "emilija = Vaikas(vardas=\"Emilija\", pavarde=\"J\", mokykla=\"Pasaulis\")\n",
    "mama = Tevas(vardas=\"Nico\", pavarde=\"P\", vaikas=emilija)\n",
    "tevas = Tevas(vardas=\"Kestas\", pavarde=\"J\", vaikas=emilija)\n",
    "m21_session.add_all([emilija, mama, tevas])\n",
    "m21_session.commit()"
   ]
  },
  {
   "cell_type": "code",
   "execution_count": null,
   "metadata": {},
   "outputs": [],
   "source": [
    "kestas = m21_session.get(Tevas, 2)\n",
    "print(kestas)"
   ]
  },
  {
   "cell_type": "code",
   "execution_count": null,
   "metadata": {},
   "outputs": [],
   "source": [
    "tevai = m21_session.query(Tevas).filter(Tevas.vaikas == emilija).all()\n",
    "print(tevai)"
   ]
  },
  {
   "cell_type": "code",
   "execution_count": null,
   "metadata": {},
   "outputs": [],
   "source": [
    "tevai = m21_session.query(Tevas).filter_by(vaikas=emilija).all()\n",
    "print(tevai)"
   ]
  },
  {
   "cell_type": "code",
   "execution_count": null,
   "metadata": {},
   "outputs": [],
   "source": [
    "naujas = Vaikas(vardas=\"Naujas\", pavarde=\"G\")\n",
    "trecias = Tevas(vardas=\"Geras\", pavarde=\"G\", vaikas=naujas)\n",
    "m21_session.add_all([naujas, trecias])\n",
    "m21_session.commit()"
   ]
  },
  {
   "cell_type": "code",
   "execution_count": null,
   "metadata": {},
   "outputs": [],
   "source": [
    "visi_tevai = m21_session.query(Tevas).all()\n",
    "visi_vaikai = m21_session.query(Vaikas).all()\n",
    "print(visi_tevai, visi_vaikai)"
   ]
  },
  {
   "cell_type": "code",
   "execution_count": null,
   "metadata": {},
   "outputs": [],
   "source": [
    "visi_tevai[2].vaikas = emilija\n",
    "m21_session.add(visi_tevai[2])\n",
    "m21_session.commit()"
   ]
  },
  {
   "cell_type": "code",
   "execution_count": null,
   "metadata": {},
   "outputs": [],
   "source": [
    "ketvirtas = Tevas(vardas=\"Super\", pavarde=\"Mama\")\n",
    "naujas.tevai.append(ketvirtas)\n",
    "m21_session.add_all([ketvirtas, naujas])\n",
    "m21_session.commit()"
   ]
  },
  {
   "cell_type": "code",
   "execution_count": null,
   "metadata": {},
   "outputs": [],
   "source": [
    "atnaujintas = m21_session.query(Vaikas).filter_by(vardas=\"Naujas\").all()\n",
    "print(atnaujintas)\n",
    "print(atnaujintas[0].tevai)"
   ]
  },
  {
   "cell_type": "code",
   "execution_count": null,
   "metadata": {},
   "outputs": [],
   "source": [
    "supermama = m21_session.query(Tevas).filter_by(pavarde=\"Mama\").one()\n",
    "print(supermama.vaikas)"
   ]
  },
  {
   "cell_type": "markdown",
   "metadata": {},
   "source": [
    "## Many 2 Many tevai"
   ]
  },
  {
   "cell_type": "code",
   "execution_count": 5,
   "metadata": {},
   "outputs": [],
   "source": [
    "from sqlalchemy import Table\n",
    "\n",
    "m2m_engine = create_engine('sqlite:///db/m2m_tevai_vaikai.db')\n",
    "m2m_session = sessionmaker(m2m_engine)()\n",
    "BaseM2M = declarative_base()\n"
   ]
  },
  {
   "cell_type": "code",
   "execution_count": 6,
   "metadata": {},
   "outputs": [],
   "source": [
    "tevai_vaikai = Table(\n",
    "    'tevai_vaikai', \n",
    "    BaseM2M.metadata,\n",
    "    Column('tevas_id', Integer, ForeignKey('vaikas.id')),\n",
    "    Column('vaikas_id', Integer, ForeignKey('tevas.id')), \n",
    ")"
   ]
  },
  {
   "cell_type": "code",
   "execution_count": null,
   "metadata": {},
   "outputs": [],
   "source": [
    "# class TevaiVaikai(BaseM2M):\n",
    "#     __tablename__ = 'tevai_vaikai'\n",
    "#     id = Column(Integer, primary_key=True)\n",
    "#     tevas_id = Column('tevas_id', Integer, ForeignKey('tevas.id'))\n",
    "#     vaikas_id = Column('vaikas_id', Integer, ForeignKey('vaikas.id'))\n"
   ]
  },
  {
   "cell_type": "code",
   "execution_count": 7,
   "metadata": {},
   "outputs": [],
   "source": [
    "class Tevas(BaseM2M):\n",
    "    __tablename__ = 'tevas'\n",
    "    id = Column(Integer, primary_key=True)\n",
    "    vardas = Column(\"vardas\", String(50))\n",
    "    pavarde = Column(\"pavarde\", String(50))\n",
    "    vaikai = relationship(\"Vaikas\", back_populates=\"tevai\", secondary=tevai_vaikai)\n",
    "\n",
    "    def __repr__(self):\n",
    "        return f\"({self.vardas}, {self.pavarde})\"\n",
    "\n",
    "\n",
    "class Vaikas(BaseM2M):\n",
    "    __tablename__ = 'vaikas'\n",
    "    id = Column(Integer, primary_key=True)\n",
    "    vardas = Column(\"vardas\", String(50))\n",
    "    pavarde = Column(\"pavarde\", String(50))\n",
    "    mokykla = Column(\"mokykla\", String(50))\n",
    "    tevai = relationship(\"Tevas\", back_populates=\"vaikai\", secondary=tevai_vaikai)\n",
    "\n",
    "    def __repr__(self):\n",
    "        return f\"({self.vardas}, {self.pavarde}, {self.mokykla})\"\n",
    "\n",
    "\n",
    "BaseM2M.metadata.create_all(m2m_engine)"
   ]
  },
  {
   "cell_type": "code",
   "execution_count": 9,
   "metadata": {},
   "outputs": [],
   "source": [
    "tevas = Tevas(vardas=\"Kestutis\", pavarde=\"Januskevicius\")\n",
    "mama = Tevas(vardas=\"Nicoletta\", pavarde=\"Januskeviciene\")\n",
    "emilija = Vaikas(vardas=\"Emilija\", pavarde=\"Januskeviciute\")\n",
    "maija = Vaikas(vardas=\"Maija\", pavarde=\"Januskeviciute\")\n",
    "marco = Vaikas(vardas=\"Marco\", pavarde=\"Januskevicius\")\n",
    "\n",
    "tevas.vaikai.append(emilija)\n",
    "tevas.vaikai.append(maija)\n",
    "tevas.vaikai.append(marco)\n",
    "mama.vaikai = [emilija, maija, marco]\n",
    "\n",
    "m2m_session.add_all([tevas, mama])\n",
    "m2m_session.commit()\n"
   ]
  },
  {
   "cell_type": "code",
   "execution_count": 13,
   "metadata": {},
   "outputs": [
    {
     "name": "stdout",
     "output_type": "stream",
     "text": [
      "(Nicoletta, Januskeviciene)\n",
      "[(Emilija, Januskeviciute, None), (Maija, Januskeviciute, None), (Marco, Januskevicius, None)]\n"
     ]
    }
   ],
   "source": [
    "nico = m2m_session.query(Tevas).filter(Tevas.vardas.ilike(\"nico%\")).one()\n",
    "print(nico)\n",
    "print(nico.vaikai)"
   ]
  },
  {
   "cell_type": "code",
   "execution_count": 14,
   "metadata": {},
   "outputs": [
    {
     "name": "stdout",
     "output_type": "stream",
     "text": [
      "(Emilija, Januskeviciute, None)\n",
      "[(Kestutis, Januskevicius), (Nicoletta, Januskeviciene)]\n",
      "(Maija, Januskeviciute, None)\n",
      "[(Kestutis, Januskevicius), (Nicoletta, Januskeviciene)]\n",
      "(Marco, Januskevicius, None)\n",
      "[(Kestutis, Januskevicius), (Nicoletta, Januskeviciene)]\n"
     ]
    }
   ],
   "source": [
    "for vaikas in nico.vaikai:\n",
    "    print(vaikas)\n",
    "    print(vaikas.tevai)"
   ]
  },
  {
   "cell_type": "code",
   "execution_count": 19,
   "metadata": {},
   "outputs": [
    {
     "name": "stdout",
     "output_type": "stream",
     "text": [
      "(Kestutis, Januskevicius)\n"
     ]
    }
   ],
   "source": [
    "kestas = nico.vaikai[0].tevai[0]\n",
    "print(kestas)"
   ]
  },
  {
   "cell_type": "code",
   "execution_count": 20,
   "metadata": {},
   "outputs": [
    {
     "name": "stdout",
     "output_type": "stream",
     "text": [
      "(Emilija, Januskeviciute, None)\n"
     ]
    }
   ],
   "source": [
    "emilija = kestas.vaikai[0]\n",
    "print(emilija)"
   ]
  },
  {
   "cell_type": "code",
   "execution_count": 21,
   "metadata": {},
   "outputs": [],
   "source": [
    "emilija.mokykla = \"Pasaulis\"\n",
    "kestas.vaikai.remove(emilija)\n",
    "m2m_session.add_all([emilija, kestas])\n",
    "m2m_session.commit()"
   ]
  },
  {
   "cell_type": "code",
   "execution_count": 24,
   "metadata": {},
   "outputs": [
    {
     "name": "stdout",
     "output_type": "stream",
     "text": [
      "(Emilija, Januskeviciute, Pasaulis)\n",
      "[(Nicoletta, Januskeviciene)]\n"
     ]
    }
   ],
   "source": [
    "nepriklausoma = m2m_session.query(Vaikas).filter(Vaikas.vardas==\"Emilija\").one()\n",
    "print(nepriklausoma)\n",
    "print(nepriklausoma.tevai)"
   ]
  },
  {
   "cell_type": "code",
   "execution_count": 26,
   "metadata": {},
   "outputs": [
    {
     "name": "stdout",
     "output_type": "stream",
     "text": [
      "(Kestutis, Januskevicius) [(Maija, Januskeviciute, None), (Marco, Januskevicius, None)]\n"
     ]
    }
   ],
   "source": [
    "tevas = m2m_session.query(Tevas).filter_by(vardas=\"Kestutis\").one()\n",
    "print(tevas, tevas.vaikai)"
   ]
  },
  {
   "cell_type": "code",
   "execution_count": 27,
   "metadata": {},
   "outputs": [
    {
     "name": "stdout",
     "output_type": "stream",
     "text": [
      "[(Emilija, Januskeviciute, Pasaulis), (Maija, Januskeviciute, None), (Marco, Januskevicius, None)]\n"
     ]
    }
   ],
   "source": [
    "print(nepriklausoma.tevai[0].vaikai)"
   ]
  }
 ],
 "metadata": {
  "kernelspec": {
   "display_name": "venv",
   "language": "python",
   "name": "python3"
  },
  "language_info": {
   "codemirror_mode": {
    "name": "ipython",
    "version": 3
   },
   "file_extension": ".py",
   "mimetype": "text/x-python",
   "name": "python",
   "nbconvert_exporter": "python",
   "pygments_lexer": "ipython3",
   "version": "3.10.12"
  },
  "orig_nbformat": 4
 },
 "nbformat": 4,
 "nbformat_minor": 2
}
