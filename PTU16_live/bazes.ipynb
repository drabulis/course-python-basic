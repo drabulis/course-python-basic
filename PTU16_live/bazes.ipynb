{
 "cells": [
  {
   "cell_type": "code",
   "execution_count": 1,
   "metadata": {},
   "outputs": [],
   "source": [
    "import sqlite3"
   ]
  },
  {
   "cell_type": "code",
   "execution_count": 4,
   "metadata": {},
   "outputs": [],
   "source": [
    "db_conn = sqlite3.connect('db/klientai.db')\n",
    "cursor = db_conn.cursor()"
   ]
  },
  {
   "cell_type": "code",
   "execution_count": 10,
   "metadata": {},
   "outputs": [
    {
     "name": "stdout",
     "output_type": "stream",
     "text": [
      "(1, 'Kestutis', 'Januskevicius', 'kestas@gka.lt', '+37069xxx411', 2)\n",
      "(2, 'Piktas', 'Trintukas', 'piktas@gka.lt', 'nesakysiu', 1)\n",
      "(3, 'Rimtas', 'Komunikatorius', 'info@zebra.lt', '+37046300000', 3)\n"
     ]
    }
   ],
   "source": [
    "cursor.execute('SELECT * FROM client;')\n",
    "clients = cursor.fetchall()\n",
    "# print(clients)\n",
    "for client in clients:\n",
    "    print(client)"
   ]
  },
  {
   "cell_type": "code",
   "execution_count": 33,
   "metadata": {},
   "outputs": [
    {
     "name": "stdout",
     "output_type": "stream",
     "text": [
      "(1, 'Middle of Everywhere', '92307', 'Klaipėda', 'Lithuania')\n",
      "(2, 'Middle of Nowhere', '82820', 'Maukkula', 'Finland')\n",
      "(3, 'H.Manto 2', '92100', 'Klaipėda', 'Lithuania')\n",
      "(4, 'Nauja gatve', '00100', 'Naujamiestis', 'Naujasalis')\n",
      "(5, 'Draugystės pr. 13', '77151', 'Šiauliai', 'Lithuania')\n",
      "(6, 'Draugystės g. 15', '31211', 'Visaginas', 'Lithuania')\n",
      "(7, 'Skardžio g. 8', 'neatsimena', 'Gilužiai', 'Lithuania')\n"
     ]
    }
   ],
   "source": [
    "cursor.execute('SELECT * FROM address;')\n",
    "clients = cursor.fetchall()\n",
    "# print(clients)\n",
    "for address in clients:\n",
    "    print(address)"
   ]
  },
  {
   "cell_type": "code",
   "execution_count": 8,
   "metadata": {},
   "outputs": [],
   "source": [
    "cursor.execute('''INSERT INTO address (street, zip, city, country) VALUES (     \n",
    "    \"H.Manto 2\", \"92100\", \"Klaipėda\", \"Lithuania\" \n",
    ");''')\n",
    "cursor.execute('''INSERT INTO client (first_name, last_name, email, phone, address_id\n",
    "               ) VALUES (\n",
    "               \"Rimtas\", \"Komunikatorius\", \"info@zebra.lt\", \"+37046300000\", 3\n",
    "               );''')\n",
    "db_conn.commit()"
   ]
  },
  {
   "cell_type": "code",
   "execution_count": 29,
   "metadata": {},
   "outputs": [
    {
     "name": "stdout",
     "output_type": "stream",
     "text": [
      "('Trintukas', 'Middle of Everywhere, Klaipėda')\n",
      "('Komunikatorius', 'H.Manto 2, Klaipėda')\n"
     ]
    }
   ],
   "source": [
    "cursor.execute('''SELECT last_name, street || \", \" || city FROM client \n",
    "               JOIN address ON address_id=address.id\n",
    "               WHERE country LIKE \"%th%\";''')\n",
    "clients = cursor.fetchall()\n",
    "# print(clients)\n",
    "for client in clients:\n",
    "    print(client)"
   ]
  },
  {
   "cell_type": "code",
   "execution_count": 22,
   "metadata": {},
   "outputs": [],
   "source": [
    "vardas = input(\"Įveskite vardą: \")\n",
    "with db_conn:\n",
    "    cursor.execute(f'SELECT * FROM client WHERE first_name LIKE \"%{vardas}%\"')\n",
    "    clients = cursor.fetchall()\n",
    "if clients:\n",
    "    for client in clients:\n",
    "        print(client)\n"
   ]
  },
  {
   "cell_type": "code",
   "execution_count": 24,
   "metadata": {},
   "outputs": [],
   "source": [
    "vardas = input(\"Įveskite vardą: \")\n",
    "with db_conn:\n",
    "    cursor.execute('SELECT * FROM client WHERE first_name = ?', (vardas, ))\n",
    "    clients = cursor.fetchall()\n",
    "if clients:\n",
    "    for client in clients:\n",
    "        print(client)\n"
   ]
  },
  {
   "cell_type": "code",
   "execution_count": 26,
   "metadata": {},
   "outputs": [],
   "source": [
    "first_name = \"Naujas\"\n",
    "last_name = \"Gerulis\"\n",
    "email = \"naujas@gka.lt\"\n",
    "phone = \"+37069999428\"\n",
    "street = \"Nauja gatve\"\n",
    "city = \"Naujamiestis\"\n",
    "zip = \"00100\"\n",
    "country = \"Naujasalis\"\n",
    "\n",
    "address_query = 'INSERT INTO address (street, zip, city, country) VALUES (?, ?, ?, ?)'\n",
    "client_query = 'INSERT INTO client (first_name, last_name, email, phone, address_id) VALUES (?, ?, ?, ?, 4)'\n",
    "with db_conn:\n",
    "    cursor.execute(address_query, (street, zip, city, country))\n",
    "    cursor.execute(client_query, (first_name, last_name, email, phone))\n"
   ]
  },
  {
   "cell_type": "code",
   "execution_count": 32,
   "metadata": {},
   "outputs": [
    {
     "name": "stdout",
     "output_type": "stream",
     "text": [
      "('Januskevicius', 'Middle of Nowhere, Maukkula')\n",
      "('Trintukas', 'Middle of Everywhere, Klaipėda')\n",
      "('Komunikatorius', 'H.Manto 2, Klaipėda')\n",
      "('Gerulis', 'Nauja gatve, Naujamiestis')\n"
     ]
    }
   ],
   "source": [
    "with db_conn:\n",
    "    cursor.execute('''SELECT last_name, street || \", \" || city FROM client \n",
    "                JOIN address ON address_id=address.id\n",
    "                ;''')\n",
    "    clients = cursor.fetchall()\n",
    "# print(clients)\n",
    "for client in clients:\n",
    "    print(client)"
   ]
  },
  {
   "cell_type": "code",
   "execution_count": 31,
   "metadata": {},
   "outputs": [],
   "source": [
    "address_query = 'INSERT INTO address (street, zip, city, country) VALUES (?, ?, ?, ?)'\n",
    "client_query = 'INSERT INTO client (first_name, last_name, email, phone, address_id) VALUES (?, ?, ?, ?, ?)'\n",
    "\n",
    "addresses = [\n",
    "    (\"Draugystės pr. 13\", \"77151\", \"Šiauliai\", \"Lithuania\"),\n",
    "    (\"Draugystės g. 15\", \"31211\", \"Visaginas\", \"Lithuania\"),\n",
    "    (\"Skardžio g. 8\", \"neatsimena\", \"Gilužiai\", \"Lithuania\"),\n",
    "]\n",
    "with db_conn:\n",
    "    cursor.executemany(address_query, addresses)\n"
   ]
  },
  {
   "cell_type": "code",
   "execution_count": 35,
   "metadata": {},
   "outputs": [
    {
     "name": "stdout",
     "output_type": "stream",
     "text": [
      "(1, 1, 'Middle of Everywhere', 'Klaipėda', 'Lithuania')\n",
      "(2, 2, 'Middle of Nowhere', 'Maukkula', 'Finland')\n",
      "(3, 3, 'H.Manto 2', 'Klaipėda', 'Lithuania')\n",
      "(4, 4, 'Nauja gatve', 'Naujamiestis', 'Naujasalis')\n",
      "(5, 5, 'Draugystės pr. 13', 'Šiauliai', 'Lithuania')\n",
      "(6, 6, 'Draugystės g. 15', 'Visaginas', 'Lithuania')\n",
      "(7, 7, 'Skardžio g. 8', 'Gilužiai', 'Lithuania')\n"
     ]
    }
   ],
   "source": [
    "cursor.execute('SELECT rowid, id, street, city, country FROM address;')\n",
    "clients = cursor.fetchall()\n",
    "# print(clients)\n",
    "for address in clients:\n",
    "    print(address)"
   ]
  }
 ],
 "metadata": {
  "kernelspec": {
   "display_name": "venv",
   "language": "python",
   "name": "python3"
  },
  "language_info": {
   "codemirror_mode": {
    "name": "ipython",
    "version": 3
   },
   "file_extension": ".py",
   "mimetype": "text/x-python",
   "name": "python",
   "nbconvert_exporter": "python",
   "pygments_lexer": "ipython3",
   "version": "3.10.12"
  },
  "orig_nbformat": 4
 },
 "nbformat": 4,
 "nbformat_minor": 2
}
