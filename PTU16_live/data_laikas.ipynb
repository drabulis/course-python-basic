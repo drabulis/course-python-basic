{
 "cells": [
  {
   "cell_type": "code",
   "execution_count": 1,
   "metadata": {},
   "outputs": [],
   "source": [
    "from datetime import datetime"
   ]
  },
  {
   "cell_type": "code",
   "execution_count": 11,
   "metadata": {},
   "outputs": [
    {
     "name": "stdout",
     "output_type": "stream",
     "text": [
      "1983-03-19 17:35:17\n"
     ]
    }
   ],
   "source": [
    "gimtalaikis = datetime(1983, 3, 19, 17, 35, 17)\n",
    "print(gimtalaikis)"
   ]
  },
  {
   "cell_type": "code",
   "execution_count": 12,
   "metadata": {},
   "outputs": [
    {
     "data": {
      "text/plain": [
       "datetime.datetime"
      ]
     },
     "execution_count": 12,
     "metadata": {},
     "output_type": "execute_result"
    }
   ],
   "source": [
    "type(gimtalaikis)"
   ]
  },
  {
   "cell_type": "code",
   "execution_count": 13,
   "metadata": {},
   "outputs": [
    {
     "name": "stdout",
     "output_type": "stream",
     "text": [
      "2023-08-25 11:22:19.377434\n"
     ]
    }
   ],
   "source": [
    "dabar = datetime.now()\n",
    "print(dabar)"
   ]
  },
  {
   "cell_type": "code",
   "execution_count": 14,
   "metadata": {},
   "outputs": [
    {
     "name": "stdout",
     "output_type": "stream",
     "text": [
      "1983-03-19\n"
     ]
    }
   ],
   "source": [
    "from datetime import date\n",
    "\n",
    "gimtadienis = date(1983, 3, 19)\n",
    "print(gimtadienis)"
   ]
  },
  {
   "cell_type": "code",
   "execution_count": 17,
   "metadata": {},
   "outputs": [
    {
     "name": "stdout",
     "output_type": "stream",
     "text": [
      "1983-03-19\n"
     ]
    }
   ],
   "source": [
    "print(gimtalaikis.date())"
   ]
  },
  {
   "cell_type": "code",
   "execution_count": 18,
   "metadata": {},
   "outputs": [
    {
     "name": "stdout",
     "output_type": "stream",
     "text": [
      "17:35:17\n"
     ]
    }
   ],
   "source": [
    "print(gimtalaikis.time())"
   ]
  },
  {
   "cell_type": "code",
   "execution_count": 21,
   "metadata": {},
   "outputs": [
    {
     "name": "stdout",
     "output_type": "stream",
     "text": [
      "1983-03-19 17:35:17\n",
      "2023-08-25 11:22:19.377434\n",
      "14768 days, 17:47:02.377434\n"
     ]
    }
   ],
   "source": [
    "amzius = dabar - gimtalaikis\n",
    "print(gimtalaikis, dabar, amzius, sep=\"\\n\")"
   ]
  },
  {
   "cell_type": "code",
   "execution_count": 22,
   "metadata": {},
   "outputs": [
    {
     "name": "stdout",
     "output_type": "stream",
     "text": [
      "2023-08-30\n"
     ]
    }
   ],
   "source": [
    "from datetime import timedelta\n",
    "\n",
    "po_5_dienu = date.today() + timedelta(days=5)\n",
    "print(po_5_dienu)"
   ]
  },
  {
   "cell_type": "code",
   "execution_count": 23,
   "metadata": {},
   "outputs": [
    {
     "name": "stdout",
     "output_type": "stream",
     "text": [
      "2023-08-25 12:26:52.715703\n"
     ]
    }
   ],
   "source": [
    "uz_valandos = datetime.now() + timedelta(hours=1)\n",
    "print(uz_valandos)"
   ]
  },
  {
   "cell_type": "code",
   "execution_count": 24,
   "metadata": {},
   "outputs": [
    {
     "name": "stdout",
     "output_type": "stream",
     "text": [
      "2023-08-25 09:27:46.976283\n"
     ]
    }
   ],
   "source": [
    "uz_valandos_utc = datetime.utcnow() + timedelta(hours=1)\n",
    "print(uz_valandos_utc)"
   ]
  },
  {
   "cell_type": "code",
   "execution_count": 31,
   "metadata": {},
   "outputs": [
    {
     "name": "stdout",
     "output_type": "stream",
     "text": [
      "40\n"
     ]
    }
   ],
   "source": [
    "amzius_dienomis = date.today() - gimtadienis\n",
    "print(amzius_dienomis.days // 365)"
   ]
  },
  {
   "cell_type": "code",
   "execution_count": 51,
   "metadata": {},
   "outputs": [
    {
     "name": "stdout",
     "output_type": "stream",
     "text": [
      "1 day, 12:15:33\n",
      "12\n",
      "15\n",
      "33\n",
      "['12', '15', '33']\n"
     ]
    }
   ],
   "source": [
    "simtas_val = timedelta(hours=36, minutes=15, seconds=33)\n",
    "print(simtas_val)\n",
    "# print(simtas_val.days)\n",
    "valandos = simtas_val.seconds // 60 // 60\n",
    "print(valandos)\n",
    "minutes = (simtas_val.seconds - valandos * 60 ** 2) // 60\n",
    "print(minutes)\n",
    "sekundes = (simtas_val.seconds - valandos * 60 ** 2 - minutes * 60)\n",
    "print(sekundes)\n",
    "print(str(simtas_val).split(', ')[1].split(':'))"
   ]
  },
  {
   "cell_type": "code",
   "execution_count": 62,
   "metadata": {},
   "outputs": [
    {
     "name": "stdout",
     "output_type": "stream",
     "text": [
      "2000-01-01 00:00:00\n",
      "nuo to praėjo 8637 dienų\n"
     ]
    }
   ],
   "source": [
    "ivesta_data = \"2000-01-01\"\n",
    "datos_formatas = \"%Y-%m-%d\"\n",
    "sukramtyta_data = datetime.strptime(ivesta_data, datos_formatas)\n",
    "print(sukramtyta_data)\n",
    "print(f\"nuo to praėjo {(date.today() - sukramtyta_data.date()).days} dienų\")"
   ]
  },
  {
   "cell_type": "code",
   "execution_count": 70,
   "metadata": {},
   "outputs": [
    {
     "name": "stdout",
     "output_type": "stream",
     "text": [
      "1983 March 19, Saturday\n",
      "Sat Mar 19 17:35:17 1983\n"
     ]
    }
   ],
   "source": [
    "formatas = \"%Y %B %d, %A\"\n",
    "print(datetime.strftime(gimtalaikis, formatas))\n",
    "print(datetime.strftime(gimtalaikis, \"%c\"))"
   ]
  },
  {
   "cell_type": "code",
   "execution_count": 75,
   "metadata": {},
   "outputs": [
    {
     "name": "stdout",
     "output_type": "stream",
     "text": [
      "time.struct_time(tm_year=1983, tm_mon=3, tm_mday=19, tm_hour=17, tm_min=35, tm_sec=17, tm_wday=5, tm_yday=78, tm_isdst=-1)\n",
      "416932517.0\n"
     ]
    }
   ],
   "source": [
    "import time\n",
    "\n",
    "gimtalaikio_tuple = gimtalaikis.timetuple()\n",
    "print(gimtalaikio_tuple)\n",
    "gimtalaikio_timestamp = time.mktime(gimtalaikio_tuple)\n",
    "print(gimtalaikio_timestamp)"
   ]
  },
  {
   "cell_type": "code",
   "execution_count": 85,
   "metadata": {},
   "outputs": [
    {
     "name": "stdout",
     "output_type": "stream",
     "text": [
      "2025-09-02 07:05:44.311351\n"
     ]
    }
   ],
   "source": [
    "mistinis_laikas = 1756785944.3113514\n",
    "mistine_data = datetime.fromtimestamp(mistinis_laikas)\n",
    "print(mistine_data)"
   ]
  },
  {
   "cell_type": "markdown",
   "metadata": {},
   "source": [
    "## Laiko zonos"
   ]
  },
  {
   "cell_type": "code",
   "execution_count": 86,
   "metadata": {},
   "outputs": [
    {
     "name": "stdout",
     "output_type": "stream",
     "text": [
      "2023-08-25 11:49:15.467249\n"
     ]
    }
   ],
   "source": [
    "utc_now = datetime.utcnow()\n",
    "print(utc_now)"
   ]
  },
  {
   "cell_type": "code",
   "execution_count": 87,
   "metadata": {},
   "outputs": [
    {
     "name": "stdout",
     "output_type": "stream",
     "text": [
      "2023-08-25 15:00:00+03:00\n"
     ]
    }
   ],
   "source": [
    "from zoneinfo import ZoneInfo\n",
    "\n",
    "laikas = datetime(2023, 8, 25, 15, tzinfo=ZoneInfo(\"Europe/Vilnius\"))\n",
    "print(laikas)"
   ]
  },
  {
   "cell_type": "code",
   "execution_count": 106,
   "metadata": {},
   "outputs": [
    {
     "name": "stdout",
     "output_type": "stream",
     "text": [
      "America/New_York\n"
     ]
    }
   ],
   "source": [
    "from zoneinfo import available_timezones\n",
    "\n",
    "last_continent = \"\"\n",
    "for zone in sorted(available_timezones()):\n",
    "    # if last_continent != zone.split('/')[0]:\n",
    "    #     print(zone)\n",
    "    # last_continent = zone.split('/')[0]\n",
    "    if zone.startswith(\"America/New\"):\n",
    "        print(zone)"
   ]
  },
  {
   "cell_type": "code",
   "execution_count": 91,
   "metadata": {},
   "outputs": [
    {
     "name": "stdout",
     "output_type": "stream",
     "text": [
      "Package            Version\n",
      "------------------ --------\n",
      "asttokens          2.2.1\n",
      "backcall           0.2.0\n",
      "beautifulsoup4     4.12.2\n",
      "blinker            1.6.2\n",
      "certifi            2023.5.7\n",
      "charset-normalizer 3.1.0\n",
      "click              8.1.3\n",
      "comm               0.1.3\n",
      "debugpy            1.6.7\n",
      "decorator          5.1.1\n",
      "executing          1.2.0\n",
      "Flask              2.3.2\n",
      "greenlet           2.0.2\n",
      "html5lib           1.1\n",
      "idna               3.4\n",
      "ipykernel          6.23.1\n",
      "ipython            8.13.2\n",
      "itsdangerous       2.1.2\n",
      "jedi               0.18.2\n",
      "Jinja2             3.1.2\n",
      "jupyter_client     8.2.0\n",
      "jupyter_core       5.3.0\n",
      "lxml               4.9.2\n",
      "MarkupSafe         2.1.2\n",
      "matplotlib-inline  0.1.6\n",
      "nest-asyncio       1.5.6\n",
      "numpy              1.24.3\n",
      "packaging          23.1\n",
      "pandas             2.0.1\n",
      "parso              0.8.3\n",
      "pexpect            4.8.0\n",
      "pickleshare        0.7.5\n",
      "Pillow             9.5.0\n",
      "pip                23.2.1\n",
      "platformdirs       3.5.1\n",
      "prompt-toolkit     3.0.38\n",
      "psutil             5.9.5\n",
      "ptyprocess         0.7.0\n",
      "pure-eval          0.2.2\n",
      "Pygments           2.15.1\n",
      "PySimpleGUI        4.60.4\n",
      "python-dateutil    2.8.2\n",
      "pytz               2023.3\n",
      "pyzmq              25.0.2\n",
      "requests           2.31.0\n",
      "setuptools         59.6.0\n",
      "six                1.16.0\n",
      "soupsieve          2.4.1\n",
      "SQLAlchemy         2.0.13\n",
      "stack-data         0.6.2\n",
      "tornado            6.3.2\n",
      "traitlets          5.9.0\n",
      "typing_extensions  4.5.0\n",
      "tzdata             2023.3\n",
      "urllib3            2.0.2\n",
      "wcwidth            0.2.6\n",
      "webencodings       0.5.1\n",
      "Werkzeug           2.3.4\n",
      "xlrd               2.0.1\n",
      "XlsxWriter         3.1.1\n"
     ]
    },
    {
     "data": {
      "text/plain": [
       "0"
      ]
     },
     "execution_count": 91,
     "metadata": {},
     "output_type": "execute_result"
    }
   ],
   "source": [
    "import os\n",
    "os.system(\"pip list\")"
   ]
  },
  {
   "cell_type": "code",
   "execution_count": 96,
   "metadata": {},
   "outputs": [
    {
     "name": "stdout",
     "output_type": "stream",
     "text": [
      "2023-08-25 15:00:00+05:30\n",
      "2023-08-25 15:00:00+03:00\n"
     ]
    }
   ],
   "source": [
    "kalkute = datetime(2023, 8, 25, 15, tzinfo=ZoneInfo(\"Asia/Calcutta\"))\n",
    "print(kalkute)\n",
    "print(laikas)"
   ]
  },
  {
   "cell_type": "code",
   "execution_count": 98,
   "metadata": {},
   "outputs": [
    {
     "name": "stdout",
     "output_type": "stream",
     "text": [
      "2:30:00\n"
     ]
    }
   ],
   "source": [
    "laiko_skirtumas = laikas - kalkute\n",
    "print(laiko_skirtumas)"
   ]
  },
  {
   "cell_type": "code",
   "execution_count": 100,
   "metadata": {},
   "outputs": [
    {
     "name": "stdout",
     "output_type": "stream",
     "text": [
      "True\n",
      "False\n"
     ]
    }
   ],
   "source": [
    "print(laikas > kalkute)\n",
    "print(laikas < kalkute)"
   ]
  },
  {
   "cell_type": "code",
   "execution_count": 107,
   "metadata": {},
   "outputs": [
    {
     "name": "stdout",
     "output_type": "stream",
     "text": [
      "2023-08-25 15:00:00-04:00\n"
     ]
    }
   ],
   "source": [
    "nyce = datetime(2023, 8, 25, 15, tzinfo=ZoneInfo(\"America/New_York\"))\n",
    "print(nyce)"
   ]
  },
  {
   "cell_type": "code",
   "execution_count": 108,
   "metadata": {},
   "outputs": [
    {
     "name": "stdout",
     "output_type": "stream",
     "text": [
      "7:00:00\n"
     ]
    }
   ],
   "source": [
    "nyc_laiko_skirtumas = nyce - laikas\n",
    "print(nyc_laiko_skirtumas)"
   ]
  },
  {
   "cell_type": "code",
   "execution_count": 113,
   "metadata": {},
   "outputs": [
    {
     "name": "stdout",
     "output_type": "stream",
     "text": [
      "2023-08-25 12:47:43.753906\n",
      "2023-08-25 15:47:43.753906+03:00\n",
      "2023-08-25 22:00:00+03:00\n"
     ]
    }
   ],
   "source": [
    "dabar = datetime.utcnow()\n",
    "print(dabar)\n",
    "dabar_vilniuje = dabar.replace(\n",
    "    tzinfo=ZoneInfo(\"UTC\")\n",
    "        ).astimezone(ZoneInfo(\"Europe/Vilnius\"))\n",
    "print(dabar_vilniuje)\n",
    "ny_laikas_vilniuje = nyce.replace(\n",
    "    tzinfo=ZoneInfo(\"America/New_York\")\n",
    "        ).astimezone(ZoneInfo(\"Europe/Vilnius\"))\n",
    "print(ny_laikas_vilniuje)"
   ]
  },
  {
   "cell_type": "code",
   "execution_count": 117,
   "metadata": {},
   "outputs": [
    {
     "data": {
      "text/plain": [
       "datetime.timedelta(seconds=11863, microseconds=753906)"
      ]
     },
     "execution_count": 117,
     "metadata": {},
     "output_type": "execute_result"
    }
   ],
   "source": [
    "from datetime import timezone\n",
    "dabar.replace(tzinfo=ZoneInfo(\"UTC\")) - kalkute"
   ]
  },
  {
   "cell_type": "code",
   "execution_count": 121,
   "metadata": {},
   "outputs": [
    {
     "name": "stdout",
     "output_type": "stream",
     "text": [
      "2023-08-25 15:54:49.537162\n",
      "2023-08-25 15:54:49.537162+03:00\n"
     ]
    }
   ],
   "source": [
    "vietinis = datetime.now()\n",
    "print(vietinis)\n",
    "print(vietinis.replace(tzinfo=ZoneInfo(\"Europe/Vilnius\")))"
   ]
  }
 ],
 "metadata": {
  "kernelspec": {
   "display_name": "venv",
   "language": "python",
   "name": "python3"
  },
  "language_info": {
   "codemirror_mode": {
    "name": "ipython",
    "version": 3
   },
   "file_extension": ".py",
   "mimetype": "text/x-python",
   "name": "python",
   "nbconvert_exporter": "python",
   "pygments_lexer": "ipython3",
   "version": "3.10.12"
  },
  "orig_nbformat": 4
 },
 "nbformat": 4,
 "nbformat_minor": 2
}
