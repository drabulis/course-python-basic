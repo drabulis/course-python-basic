{
 "cells": [
  {
   "cell_type": "code",
   "execution_count": 1,
   "metadata": {},
   "outputs": [],
   "source": [
    "import numpy as np"
   ]
  },
  {
   "cell_type": "code",
   "execution_count": 2,
   "metadata": {},
   "outputs": [
    {
     "name": "stdout",
     "output_type": "stream",
     "text": [
      "[4, 3, 5, 1, 7, 2]\n",
      "[4 3 5 1 7 2]\n"
     ]
    }
   ],
   "source": [
    "skaiciai = [4, 3, 5, 1, 7, 2]\n",
    "np_skaiciai = np.array(skaiciai)\n",
    "print(skaiciai)\n",
    "print(np_skaiciai)"
   ]
  },
  {
   "cell_type": "code",
   "execution_count": 3,
   "metadata": {},
   "outputs": [
    {
     "name": "stdout",
     "output_type": "stream",
     "text": [
      "[[7 8 9]\n",
      " [4 5 6]\n",
      " [1 2 3]]\n"
     ]
    }
   ],
   "source": [
    "keypad = [\n",
    "    [7, 8, 9],\n",
    "    [4, 5, 6],\n",
    "    [1, 2, 3]\n",
    "]\n",
    "matrix_keypad = np.array(keypad)\n",
    "print(matrix_keypad)"
   ]
  },
  {
   "cell_type": "code",
   "execution_count": 4,
   "metadata": {},
   "outputs": [
    {
     "name": "stdout",
     "output_type": "stream",
     "text": [
      "[ 0  1  2  3  4  5  6  7  8  9 10 11 12 13 14 15 16 17 18 19 20 21 22 23\n",
      " 24 25 26 27 28 29 30 31 32 33 34 35 36 37 38 39 40 41 42 43 44 45 46 47\n",
      " 48 49 50 51 52 53 54 55 56 57 58 59 60 61 62 63 64 65 66 67 68 69 70 71\n",
      " 72 73 74 75 76 77 78 79 80 81 82 83 84 85 86 87 88 89 90 91 92 93 94 95\n",
      " 96 97 98 99]\n"
     ]
    }
   ],
   "source": [
    "eile = np.arange(100)\n",
    "print(eile)"
   ]
  },
  {
   "cell_type": "code",
   "execution_count": 5,
   "metadata": {},
   "outputs": [
    {
     "data": {
      "text/plain": [
       "array([0., 0., 0., 0., 0., 0., 0., 0., 0., 0., 0., 0., 0., 0., 0., 0., 0.,\n",
       "       0., 0., 0.])"
      ]
     },
     "execution_count": 5,
     "metadata": {},
     "output_type": "execute_result"
    }
   ],
   "source": [
    "np.zeros(20)"
   ]
  },
  {
   "cell_type": "code",
   "execution_count": 6,
   "metadata": {},
   "outputs": [
    {
     "data": {
      "text/plain": [
       "array([[0., 0., 0.],\n",
       "       [0., 0., 0.],\n",
       "       [0., 0., 0.]])"
      ]
     },
     "execution_count": 6,
     "metadata": {},
     "output_type": "execute_result"
    }
   ],
   "source": [
    "np.zeros((3, 3))"
   ]
  },
  {
   "cell_type": "code",
   "execution_count": 8,
   "metadata": {},
   "outputs": [
    {
     "data": {
      "text/plain": [
       "array([ 0. ,  2.5,  5. ,  7.5, 10. ])"
      ]
     },
     "execution_count": 8,
     "metadata": {},
     "output_type": "execute_result"
    }
   ],
   "source": [
    "np.linspace(0, 10, 5)"
   ]
  },
  {
   "cell_type": "code",
   "execution_count": 12,
   "metadata": {},
   "outputs": [
    {
     "data": {
      "text/plain": [
       "array([10.  , 11.25, 12.5 , 13.75, 15.  , 16.25, 17.5 , 18.75, 20.  ,\n",
       "       21.25, 22.5 , 23.75, 25.  , 26.25, 27.5 , 28.75, 30.  ])"
      ]
     },
     "execution_count": 12,
     "metadata": {},
     "output_type": "execute_result"
    }
   ],
   "source": [
    "np.linspace(10, 30, 17)"
   ]
  },
  {
   "cell_type": "code",
   "execution_count": 13,
   "metadata": {},
   "outputs": [
    {
     "data": {
      "text/plain": [
       "array([[1., 0., 0., 0., 0., 0., 0.],\n",
       "       [0., 1., 0., 0., 0., 0., 0.],\n",
       "       [0., 0., 1., 0., 0., 0., 0.],\n",
       "       [0., 0., 0., 1., 0., 0., 0.],\n",
       "       [0., 0., 0., 0., 1., 0., 0.],\n",
       "       [0., 0., 0., 0., 0., 1., 0.],\n",
       "       [0., 0., 0., 0., 0., 0., 1.]])"
      ]
     },
     "execution_count": 13,
     "metadata": {},
     "output_type": "execute_result"
    }
   ],
   "source": [
    "np.eye(7)"
   ]
  },
  {
   "cell_type": "code",
   "execution_count": 14,
   "metadata": {},
   "outputs": [
    {
     "data": {
      "text/plain": [
       "array([0.40917237, 0.82667931, 0.62360255, 0.52274379, 0.52951637,\n",
       "       0.53433304, 0.5635563 , 0.00248536, 0.71134719, 0.48973881])"
      ]
     },
     "execution_count": 14,
     "metadata": {},
     "output_type": "execute_result"
    }
   ],
   "source": [
    "np.random.rand(10)"
   ]
  },
  {
   "cell_type": "code",
   "execution_count": 15,
   "metadata": {},
   "outputs": [
    {
     "data": {
      "text/plain": [
       "array([[0.96798085, 0.01438587, 0.66384558],\n",
       "       [0.48633602, 0.09120087, 0.82643269],\n",
       "       [0.99138424, 0.66358066, 0.07050574]])"
      ]
     },
     "execution_count": 15,
     "metadata": {},
     "output_type": "execute_result"
    }
   ],
   "source": [
    "np.random.rand(3, 3)"
   ]
  },
  {
   "cell_type": "code",
   "execution_count": 30,
   "metadata": {},
   "outputs": [
    {
     "data": {
      "text/plain": [
       "array([[26, 83, 53, 83, 21],\n",
       "       [57, 51, 76, 44, 55],\n",
       "       [68, 33, 77, 74, 51],\n",
       "       [90, 74, 49, 83, 75],\n",
       "       [57, 33, 41, 60, 35]])"
      ]
     },
     "execution_count": 30,
     "metadata": {},
     "output_type": "execute_result"
    }
   ],
   "source": [
    "teleloto = np.random.randint(10, 99, (5, 5))\n",
    "teleloto"
   ]
  },
  {
   "cell_type": "code",
   "execution_count": 35,
   "metadata": {},
   "outputs": [
    {
     "data": {
      "text/plain": [
       "array([69, 39, 39, 66, 52, 91, 36, 71, 44, 81, 26, 88, 42, 59, 93, 92, 89,\n",
       "       18, 12, 83, 45, 84, 13, 26, 32, 61, 64, 76, 56, 52, 16, 38, 84, 68,\n",
       "       26, 44, 15, 81, 64, 65, 97, 91, 96, 42, 41, 16, 18, 53, 28, 57, 50,\n",
       "       80, 15, 29, 55, 87, 12, 37, 21, 12])"
      ]
     },
     "execution_count": 35,
     "metadata": {},
     "output_type": "execute_result"
    }
   ],
   "source": [
    "sem = np.random.randint(10, 99, 60)\n",
    "sem"
   ]
  },
  {
   "cell_type": "code",
   "execution_count": 42,
   "metadata": {},
   "outputs": [],
   "source": [
    "sem6x10 = sem.reshape(6, 10)"
   ]
  },
  {
   "cell_type": "code",
   "execution_count": 37,
   "metadata": {},
   "outputs": [
    {
     "data": {
      "text/plain": [
       "array([[69, 39, 39, 66, 52],\n",
       "       [91, 36, 71, 44, 81],\n",
       "       [26, 88, 42, 59, 93],\n",
       "       [92, 89, 18, 12, 83],\n",
       "       [45, 84, 13, 26, 32],\n",
       "       [61, 64, 76, 56, 52],\n",
       "       [16, 38, 84, 68, 26],\n",
       "       [44, 15, 81, 64, 65],\n",
       "       [97, 91, 96, 42, 41],\n",
       "       [16, 18, 53, 28, 57],\n",
       "       [50, 80, 15, 29, 55],\n",
       "       [87, 12, 37, 21, 12]])"
      ]
     },
     "execution_count": 37,
     "metadata": {},
     "output_type": "execute_result"
    }
   ],
   "source": [
    "sem.reshape(12, 5)"
   ]
  },
  {
   "cell_type": "code",
   "execution_count": 38,
   "metadata": {},
   "outputs": [
    {
     "data": {
      "text/plain": [
       "(12, 97)"
      ]
     },
     "execution_count": 38,
     "metadata": {},
     "output_type": "execute_result"
    }
   ],
   "source": [
    "sem.min(), sem.max()"
   ]
  },
  {
   "cell_type": "code",
   "execution_count": 39,
   "metadata": {},
   "outputs": [
    {
     "data": {
      "text/plain": [
       "(18, 40)"
      ]
     },
     "execution_count": 39,
     "metadata": {},
     "output_type": "execute_result"
    }
   ],
   "source": [
    "sem.argmin(), sem.argmax()"
   ]
  },
  {
   "cell_type": "code",
   "execution_count": 43,
   "metadata": {},
   "outputs": [
    {
     "data": {
      "text/plain": [
       "(6, 10)"
      ]
     },
     "execution_count": 43,
     "metadata": {},
     "output_type": "execute_result"
    }
   ],
   "source": [
    "sem6x10.shape"
   ]
  },
  {
   "cell_type": "code",
   "execution_count": 44,
   "metadata": {},
   "outputs": [
    {
     "data": {
      "text/plain": [
       "dtype('int64')"
      ]
     },
     "execution_count": 44,
     "metadata": {},
     "output_type": "execute_result"
    }
   ],
   "source": [
    "sem6x10.dtype"
   ]
  },
  {
   "cell_type": "code",
   "execution_count": 46,
   "metadata": {},
   "outputs": [
    {
     "data": {
      "text/plain": [
       "(12, 97)"
      ]
     },
     "execution_count": 46,
     "metadata": {},
     "output_type": "execute_result"
    }
   ],
   "source": [
    "sem[18], sem[sem.argmax()]"
   ]
  },
  {
   "cell_type": "code",
   "execution_count": 47,
   "metadata": {},
   "outputs": [
    {
     "data": {
      "text/plain": [
       "array([26, 88, 42, 59, 93, 92, 89, 18, 12, 83])"
      ]
     },
     "execution_count": 47,
     "metadata": {},
     "output_type": "execute_result"
    }
   ],
   "source": [
    "sem[10:20]"
   ]
  },
  {
   "cell_type": "code",
   "execution_count": 48,
   "metadata": {},
   "outputs": [
    {
     "data": {
      "text/plain": [
       "array([69, 26, 45, 16, 97, 50])"
      ]
     },
     "execution_count": 48,
     "metadata": {},
     "output_type": "execute_result"
    }
   ],
   "source": [
    "sem[::10]"
   ]
  },
  {
   "cell_type": "code",
   "execution_count": 49,
   "metadata": {},
   "outputs": [
    {
     "data": {
      "text/plain": [
       "array([39, 88, 84, 38, 91, 80])"
      ]
     },
     "execution_count": 49,
     "metadata": {},
     "output_type": "execute_result"
    }
   ],
   "source": [
    "sem[1::10]"
   ]
  },
  {
   "cell_type": "code",
   "execution_count": 55,
   "metadata": {},
   "outputs": [
    {
     "data": {
      "text/plain": [
       "array([[69, 39, 39, 66, 52, 91, 36, 71, 44, 81],\n",
       "       [26, 88, 42, 59, 93, 92, 89, 18, 12, 83],\n",
       "       [45, 84, 13, 26, 32, 61, 64, 76, 56, 52],\n",
       "       [77, 77, 77, 77, 77, 77, 77, 77, 77, 77],\n",
       "       [97, 91, 96, 42, 41, 16, 18, 53, 28, 57],\n",
       "       [50, 80, 15, 29, 55, 87, 12, 37, 21, 12]])"
      ]
     },
     "execution_count": 55,
     "metadata": {},
     "output_type": "execute_result"
    }
   ],
   "source": [
    "dirty_sem = sem6x10.copy()\n",
    "dirty_sem[3, ] = 77\n",
    "dirty_sem"
   ]
  },
  {
   "cell_type": "code",
   "execution_count": 57,
   "metadata": {},
   "outputs": [
    {
     "data": {
      "text/plain": [
       "array([[69, 39, 39, 77, 52, 91, 36, 71, 44, 81],\n",
       "       [26, 88, 42, 77, 93, 92, 89, 18, 12, 83],\n",
       "       [45, 84, 13, 77, 32, 61, 64, 76, 56, 52],\n",
       "       [16, 38, 84, 77, 26, 44, 15, 81, 64, 65],\n",
       "       [97, 91, 96, 77, 41, 16, 18, 53, 28, 57],\n",
       "       [50, 80, 15, 77, 55, 87, 12, 37, 21, 12]])"
      ]
     },
     "execution_count": 57,
     "metadata": {},
     "output_type": "execute_result"
    }
   ],
   "source": [
    "dirty_sem = sem.copy()\n",
    "dirty_sem[3::10] = 77\n",
    "dirty_sem = dirty_sem.reshape(6, 10)\n",
    "dirty_sem"
   ]
  },
  {
   "cell_type": "code",
   "execution_count": 58,
   "metadata": {},
   "outputs": [
    {
     "data": {
      "text/plain": [
       "32"
      ]
     },
     "execution_count": 58,
     "metadata": {},
     "output_type": "execute_result"
    }
   ],
   "source": [
    "dirty_sem[2, 4]"
   ]
  },
  {
   "cell_type": "code",
   "execution_count": 59,
   "metadata": {},
   "outputs": [
    {
     "data": {
      "text/plain": [
       "array([[13, 77, 32, 61, 64, 76],\n",
       "       [84, 77, 26, 44, 15, 81]])"
      ]
     },
     "execution_count": 59,
     "metadata": {},
     "output_type": "execute_result"
    }
   ],
   "source": [
    "dirty_sem[2:-2, 2:-2]"
   ]
  },
  {
   "cell_type": "code",
   "execution_count": 61,
   "metadata": {},
   "outputs": [
    {
     "data": {
      "text/plain": [
       "array([[ True, False, False,  True,  True,  True, False,  True, False,\n",
       "         True],\n",
       "       [False,  True, False,  True,  True,  True,  True, False, False,\n",
       "         True],\n",
       "       [False,  True, False, False, False,  True,  True,  True,  True,\n",
       "         True],\n",
       "       [False, False,  True,  True, False, False, False,  True,  True,\n",
       "         True],\n",
       "       [ True,  True,  True, False, False, False, False,  True, False,\n",
       "         True],\n",
       "       [False,  True, False, False,  True,  True, False, False, False,\n",
       "        False]])"
      ]
     },
     "execution_count": 61,
     "metadata": {},
     "output_type": "execute_result"
    }
   ],
   "source": [
    "sem6x10 > 50"
   ]
  },
  {
   "cell_type": "code",
   "execution_count": 62,
   "metadata": {},
   "outputs": [
    {
     "data": {
      "text/plain": [
       "array([69, 66, 52, 91, 71, 81, 88, 59, 93, 92, 89, 83, 84, 61, 64, 76, 56,\n",
       "       52, 84, 68, 81, 64, 65, 97, 91, 96, 53, 57, 80, 55, 87])"
      ]
     },
     "execution_count": 62,
     "metadata": {},
     "output_type": "execute_result"
    }
   ],
   "source": [
    "sem6x10[sem6x10 > 50]"
   ]
  },
  {
   "cell_type": "code",
   "execution_count": 64,
   "metadata": {},
   "outputs": [
    {
     "data": {
      "text/plain": [
       "array([69, 66, 52, 91, 71, 81, 88, 59, 93, 92, 89, 83, 84, 61, 64, 76, 56,\n",
       "       52, 84, 68, 81, 64, 65, 97, 91, 96, 53, 57, 80, 55, 87])"
      ]
     },
     "execution_count": 64,
     "metadata": {},
     "output_type": "execute_result"
    }
   ],
   "source": [
    "tiesos_matrica = sem > 50\n",
    "sem[tiesos_matrica]"
   ]
  },
  {
   "cell_type": "code",
   "execution_count": 73,
   "metadata": {},
   "outputs": [
    {
     "data": {
      "text/plain": [
       "array([[69, 39, 39, 77, 52, 91, 36, 71, 44, 81],\n",
       "       [26, 88, 42, 77, 93, 92, 89, 18, 12, 83],\n",
       "       [45,  3,  3,  3,  3,  3,  3, 76, 56, 52],\n",
       "       [16, 38, 84, 77, 26, 44, 15, 81, 64, 65],\n",
       "       [97, 91, 96, 77, 41, 16, 18, 53, 28, 57],\n",
       "       [50, 80, 15, 77, 55, 87, 12, 37, 21, 12]])"
      ]
     },
     "execution_count": 73,
     "metadata": {},
     "output_type": "execute_result"
    }
   ],
   "source": [
    "dirty_sem\n",
    "dirty_fragment = dirty_sem[2:3, 1:-3]\n",
    "dirty_fragment[:] = 3\n",
    "dirty_sem"
   ]
  },
  {
   "cell_type": "code",
   "execution_count": 75,
   "metadata": {},
   "outputs": [
    {
     "data": {
      "text/plain": [
       "array([[  0,   0,   0, -11,   0,   0,   0,   0,   0,   0],\n",
       "       [  0,   0,   0, -18,   0,   0,   0,   0,   0,   0],\n",
       "       [  0,  81,  10,  23,  29,  58,  61,   0,   0,   0],\n",
       "       [  0,   0,   0,  -9,   0,   0,   0,   0,   0,   0],\n",
       "       [  0,   0,   0, -35,   0,   0,   0,   0,   0,   0],\n",
       "       [  0,   0,   0, -48,   0,   0,   0,   0,   0,   0]])"
      ]
     },
     "execution_count": 75,
     "metadata": {},
     "output_type": "execute_result"
    }
   ],
   "source": [
    "sem6x10 - dirty_sem"
   ]
  },
  {
   "cell_type": "code",
   "execution_count": 76,
   "metadata": {},
   "outputs": [
    {
     "data": {
      "text/plain": [
       "array([[6, 3, 3, 7, 5, 9, 3, 7, 4, 8],\n",
       "       [2, 8, 4, 7, 9, 9, 8, 1, 1, 8],\n",
       "       [4, 0, 0, 0, 0, 0, 0, 7, 5, 5],\n",
       "       [1, 3, 8, 7, 2, 4, 1, 8, 6, 6],\n",
       "       [9, 9, 9, 7, 4, 1, 1, 5, 2, 5],\n",
       "       [5, 8, 1, 7, 5, 8, 1, 3, 2, 1]])"
      ]
     },
     "execution_count": 76,
     "metadata": {},
     "output_type": "execute_result"
    }
   ],
   "source": [
    "dirty_sem // 10"
   ]
  },
  {
   "cell_type": "code",
   "execution_count": 80,
   "metadata": {},
   "outputs": [
    {
     "data": {
      "text/plain": [
       "array([ 8.95879735,  5.49306144,  5.49306144,  8.95879735,  8.04718956,\n",
       "       10.98612289,  5.49306144,  9.72955075,  6.93147181, 10.39720771,\n",
       "        3.4657359 , 10.39720771,  6.93147181,  8.04718956, 10.98612289,\n",
       "       10.98612289, 10.39720771,  0.        ,  0.        , 10.39720771,\n",
       "        6.93147181, 10.39720771,  0.        ,  3.4657359 ,  5.49306144,\n",
       "        8.95879735,  8.95879735,  9.72955075,  8.04718956,  8.04718956,\n",
       "        0.        ,  5.49306144, 10.39720771,  8.95879735,  3.4657359 ,\n",
       "        6.93147181,  0.        , 10.39720771,  8.95879735,  8.95879735,\n",
       "       10.98612289, 10.98612289, 10.98612289,  6.93147181,  6.93147181,\n",
       "        0.        ,  0.        ,  8.04718956,  3.4657359 ,  8.04718956,\n",
       "        8.04718956, 10.39720771,  0.        ,  3.4657359 ,  8.04718956,\n",
       "       10.39720771,  0.        ,  5.49306144,  3.4657359 ,  0.        ])"
      ]
     },
     "execution_count": 80,
     "metadata": {},
     "output_type": "execute_result"
    }
   ],
   "source": [
    "np.log((sem // 10) ** 5)"
   ]
  }
 ],
 "metadata": {
  "kernelspec": {
   "display_name": "venv",
   "language": "python",
   "name": "python3"
  },
  "language_info": {
   "codemirror_mode": {
    "name": "ipython",
    "version": 3
   },
   "file_extension": ".py",
   "mimetype": "text/x-python",
   "name": "python",
   "nbconvert_exporter": "python",
   "pygments_lexer": "ipython3",
   "version": "3.10.12"
  },
  "orig_nbformat": 4
 },
 "nbformat": 4,
 "nbformat_minor": 2
}
