{
 "cells": [
  {
   "cell_type": "markdown",
   "metadata": {},
   "source": [
    "## pagalbines listu funkcijos"
   ]
  },
  {
   "cell_type": "code",
   "execution_count": 86,
   "metadata": {},
   "outputs": [],
   "source": [
    "from functools import reduce\n",
    "\n",
    "skaiciai = [7, 4, 11, 4, -17, 2, 4, 6, 9, 7, 2, 4, 2, 6, 4, 12, -3, 15, 2, 2, 27]\n",
    "suma = lambda pirmas, antras: pirmas + antras"
   ]
  },
  {
   "cell_type": "code",
   "execution_count": 87,
   "metadata": {},
   "outputs": [],
   "source": [
    "def suma2(pirmas, antras):\n",
    "    return pirmas + antras"
   ]
  },
  {
   "cell_type": "code",
   "execution_count": 88,
   "metadata": {},
   "outputs": [
    {
     "data": {
      "text/plain": [
       "11"
      ]
     },
     "execution_count": 88,
     "metadata": {},
     "output_type": "execute_result"
    }
   ],
   "source": [
    "suma2(7, 4)"
   ]
  },
  {
   "cell_type": "code",
   "execution_count": 89,
   "metadata": {},
   "outputs": [
    {
     "name": "stdout",
     "output_type": "stream",
     "text": [
      "110\n"
     ]
    }
   ],
   "source": [
    "saraso_suma = reduce(suma, skaiciai)\n",
    "print(saraso_suma)"
   ]
  },
  {
   "cell_type": "code",
   "execution_count": 90,
   "metadata": {},
   "outputs": [
    {
     "name": "stdout",
     "output_type": "stream",
     "text": [
      "11\n"
     ]
    }
   ],
   "source": [
    "didziausias = lambda pirmas, antras: pirmas if pirmas > antras else antras\n",
    "print(didziausias(5, 11))"
   ]
  },
  {
   "cell_type": "code",
   "execution_count": 91,
   "metadata": {},
   "outputs": [
    {
     "name": "stdout",
     "output_type": "stream",
     "text": [
      "17\n"
     ]
    }
   ],
   "source": [
    "def didziausias2(pirmas, antras):\n",
    "    if pirmas > antras:\n",
    "        return pirmas\n",
    "    else:\n",
    "        return antras\n",
    "print(didziausias2(17, 9))"
   ]
  },
  {
   "cell_type": "code",
   "execution_count": 92,
   "metadata": {},
   "outputs": [
    {
     "name": "stdout",
     "output_type": "stream",
     "text": [
      "27\n"
     ]
    }
   ],
   "source": [
    "max_skaicius = reduce(didziausias, skaiciai)\n",
    "print(max_skaicius)"
   ]
  },
  {
   "cell_type": "code",
   "execution_count": 93,
   "metadata": {},
   "outputs": [
    {
     "name": "stdout",
     "output_type": "stream",
     "text": [
      "3 odd 8 even\n"
     ]
    }
   ],
   "source": [
    "odd_even = lambda skaicius: 'even' if skaicius % 2 == 0 else 'odd'\n",
    "print(3, odd_even(3), 8, odd_even(8))"
   ]
  },
  {
   "cell_type": "code",
   "execution_count": 94,
   "metadata": {},
   "outputs": [
    {
     "name": "stdout",
     "output_type": "stream",
     "text": [
      "[7, 4, 11, 4, -17, 2, 4, 6, 9, 7, 2, 4, 2, 6, 4, 12, -3, 15, 2, 2, 27]\n",
      "['odd', 'even', 'odd', 'even', 'odd', 'even', 'even', 'even', 'odd', 'odd', 'even', 'even', 'even', 'even', 'even', 'even', 'odd', 'odd', 'even', 'even', 'odd']\n"
     ]
    }
   ],
   "source": [
    "print(skaiciai)\n",
    "print(list(map(odd_even, skaiciai)))"
   ]
  },
  {
   "cell_type": "code",
   "execution_count": 95,
   "metadata": {},
   "outputs": [
    {
     "name": "stdout",
     "output_type": "stream",
     "text": [
      "[1904, 1908, 1912, 1916, 1920, 1924, 1928, 1932, 1936, 1940, 1944, 1948, 1952, 1956, 1960, 1964, 1968, 1972, 1976, 1980, 1984, 1988, 1992, 1996, 2000, 2004, 2008, 2012, 2016, 2020, 2024, 2028, 2032, 2036, 2040, 2044, 2048, 2052, 2056, 2060, 2064, 2068, 2072, 2076, 2080, 2084, 2088, 2092, 2096]\n"
     ]
    }
   ],
   "source": [
    "keliamieji = lambda metai: True if metai % 4 == 0 and metai % 100 != 0 or metai % 400 == 0 else False\n",
    "print(list(filter(keliamieji, range(1900, 2101))))"
   ]
  },
  {
   "cell_type": "code",
   "execution_count": 96,
   "metadata": {},
   "outputs": [
    {
     "data": {
      "text/plain": [
       "110"
      ]
     },
     "execution_count": 96,
     "metadata": {},
     "output_type": "execute_result"
    }
   ],
   "source": [
    "sum(skaiciai)"
   ]
  },
  {
   "cell_type": "code",
   "execution_count": 97,
   "metadata": {},
   "outputs": [
    {
     "data": {
      "text/plain": [
       "-17"
      ]
     },
     "execution_count": 97,
     "metadata": {},
     "output_type": "execute_result"
    }
   ],
   "source": [
    "min(skaiciai)"
   ]
  },
  {
   "cell_type": "code",
   "execution_count": 98,
   "metadata": {},
   "outputs": [
    {
     "data": {
      "text/plain": [
       "27"
      ]
     },
     "execution_count": 98,
     "metadata": {},
     "output_type": "execute_result"
    }
   ],
   "source": [
    "max(skaiciai)"
   ]
  },
  {
   "cell_type": "code",
   "execution_count": 99,
   "metadata": {},
   "outputs": [
    {
     "data": {
      "text/plain": [
       "5.238095238095238"
      ]
     },
     "execution_count": 99,
     "metadata": {},
     "output_type": "execute_result"
    }
   ],
   "source": [
    "from statistics import mean, median, mode\n",
    "mean(skaiciai)"
   ]
  },
  {
   "cell_type": "code",
   "execution_count": 100,
   "metadata": {},
   "outputs": [
    {
     "data": {
      "text/plain": [
       "3.141592653589793"
      ]
     },
     "execution_count": 100,
     "metadata": {},
     "output_type": "execute_result"
    }
   ],
   "source": [
    "from math import pi\n",
    "pi"
   ]
  },
  {
   "cell_type": "code",
   "execution_count": 101,
   "metadata": {},
   "outputs": [
    {
     "data": {
      "text/plain": [
       "4"
      ]
     },
     "execution_count": 101,
     "metadata": {},
     "output_type": "execute_result"
    }
   ],
   "source": [
    "median(skaiciai)"
   ]
  },
  {
   "cell_type": "code",
   "execution_count": 102,
   "metadata": {},
   "outputs": [
    {
     "data": {
      "text/plain": [
       "4"
      ]
     },
     "execution_count": 102,
     "metadata": {},
     "output_type": "execute_result"
    }
   ],
   "source": [
    "mode(skaiciai)"
   ]
  },
  {
   "cell_type": "code",
   "execution_count": 103,
   "metadata": {},
   "outputs": [
    {
     "name": "stdout",
     "output_type": "stream",
     "text": [
      "5 5\n"
     ]
    }
   ],
   "source": [
    "print(skaiciai.count(2), skaiciai.count(4))"
   ]
  },
  {
   "cell_type": "code",
   "execution_count": 108,
   "metadata": {},
   "outputs": [
    {
     "name": "stdout",
     "output_type": "stream",
     "text": [
      "[-17, -3, 2, 2, 2, 2, 2, 4, 4, 4, 4, 4, 6, 6, 7, 7, 9, 11, 12, 15, 27]\n"
     ]
    }
   ],
   "source": [
    "skaiciai.sort()\n",
    "print(skaiciai)"
   ]
  },
  {
   "cell_type": "code",
   "execution_count": 106,
   "metadata": {},
   "outputs": [
    {
     "name": "stdout",
     "output_type": "stream",
     "text": [
      "[27, 15, 12, 11, 9, 7, 7, 6, 6, 4, 4, 4, 4, 4, 2, 2, 2, 2, 2, -3, -17]\n"
     ]
    }
   ],
   "source": [
    "skaiciai.sort(reverse=True)\n",
    "print(skaiciai)"
   ]
  },
  {
   "cell_type": "code",
   "execution_count": 109,
   "metadata": {},
   "outputs": [
    {
     "name": "stdout",
     "output_type": "stream",
     "text": [
      "[2, 2, 2, 2, 2, 4, 4, 4, 4, 4, 6, 6, 12, -17, -3, 7, 7, 9, 11, 15, 27]\n"
     ]
    }
   ],
   "source": [
    "skaiciai.sort(key=odd_even)\n",
    "print(skaiciai)"
   ]
  },
  {
   "cell_type": "code",
   "execution_count": 111,
   "metadata": {},
   "outputs": [
    {
     "name": "stdout",
     "output_type": "stream",
     "text": [
      "[27, 15, 12, 11, 9, 7, 7, 6, 6, 4, 4, 4, 4, 4, 2, 2, 2, 2, 2, -3, -17]\n",
      "[2, 2, 2, 2, 2, 4, 4, 4, 4, 4, 6, 6, 12, -17, -3, 7, 7, 9, 11, 15, 27]\n"
     ]
    }
   ],
   "source": [
    "atbulinis = sorted(skaiciai, reverse=True)\n",
    "print(atbulinis)\n",
    "print(skaiciai)"
   ]
  },
  {
   "cell_type": "code",
   "execution_count": 125,
   "metadata": {},
   "outputs": [
    {
     "name": "stdout",
     "output_type": "stream",
     "text": [
      "[(Ford, Mustang, 1964, 233), (Volkswagen, Golf, 1997, 90), (Tesla, Model 3, 2021, 364), (Tesla, Model S Plaid, 2023, 1100)]\n",
      "[(Tesla, Model S Plaid, 2023, 1100), (Tesla, Model 3, 2021, 364), (Ford, Mustang, 1964, 233), (Volkswagen, Golf, 1997, 90)]\n",
      "Volkswagen Golf 1997, 90hp: 19.51\n",
      "Tesla Model S Plaid 2023, 1100hp: 9.5075\n",
      "Tesla Model 3 2021, 364hp: 12.8425\n",
      "Ford Mustang 1964, 233hp: 14.8767\n"
     ]
    }
   ],
   "source": [
    "class Vehicle():\n",
    "    def __init__(self, make:str, model:str, year:int, hp:int, drag_times=[]) -> None:\n",
    "        self.make = make\n",
    "        self.model = model\n",
    "        self.year = year\n",
    "        self.hp = hp\n",
    "        self.drag_times = drag_times\n",
    "\n",
    "    def __str__(self) -> str:\n",
    "        return f\"{self.make} {self.model} {self.year}, {self.hp}hp\"\n",
    "    \n",
    "    def __repr__(self) -> str:\n",
    "        return f\"({self.make}, {self.model}, {self.year}, {self.hp})\"\n",
    "    \n",
    "    @property\n",
    "    def drag_average(self) -> float:\n",
    "        return mean(self.drag_times)\n",
    "\n",
    "    \n",
    "vehicles = [\n",
    "    Vehicle(\"Volkswagen\", \"Golf\", 1997, 90, [19.11, 20.01, 19.55, 19.37]),\n",
    "    Vehicle(\"Tesla\", \"Model S Plaid\", 2023, 1100, [9.7, 9.66, 9.42, 9.25]),\n",
    "    Vehicle(\"Tesla\", \"Model 3\", 2021, 364, [12.59, 12.66, 12.97, 13.15]),\n",
    "    Vehicle(\"Ford\", \"Mustang\", 1964, 233, [14.55, 14.75, 15.33]),\n",
    "]\n",
    "\n",
    "pagal_metus = sorted(vehicles, key=lambda vehicle: vehicle.year)\n",
    "print(pagal_metus)\n",
    "pagal_draga = sorted(vehicles, key=lambda vehicles: vehicles.drag_average)\n",
    "print(pagal_draga)\n",
    "for vehicle in vehicles:\n",
    "    print(f\"{vehicle}: {vehicle.drag_average:g}\")"
   ]
  },
  {
   "cell_type": "code",
   "execution_count": 126,
   "metadata": {},
   "outputs": [
    {
     "name": "stdout",
     "output_type": "stream",
     "text": [
      "[(Volkswagen, Golf, 1997, 90), (Ford, Mustang, 1964, 233), (Tesla, Model 3, 2021, 364), (Tesla, Model S Plaid, 2023, 1100)]\n"
     ]
    }
   ],
   "source": [
    "from operator import attrgetter\n",
    "pagal_hp = sorted(vehicles, key=attrgetter('hp'))\n",
    "print(pagal_hp)"
   ]
  },
  {
   "cell_type": "code",
   "execution_count": 127,
   "metadata": {},
   "outputs": [
    {
     "name": "stdout",
     "output_type": "stream",
     "text": [
      "[(Ford, Mustang, 1964, 233), (Tesla, Model 3, 2021, 364), (Tesla, Model S Plaid, 2023, 1100), (Volkswagen, Golf, 1997, 90)]\n"
     ]
    }
   ],
   "source": [
    "pagal_pavadinima = sorted(vehicles, key=attrgetter('make', 'model'))\n",
    "print(pagal_pavadinima)"
   ]
  },
  {
   "cell_type": "markdown",
   "metadata": {},
   "source": [
    "## list comprehension"
   ]
  },
  {
   "cell_type": "code",
   "execution_count": 130,
   "metadata": {},
   "outputs": [
    {
     "name": "stdout",
     "output_type": "stream",
     "text": [
      "[8, 8, 8, 8, 8, 64, 64, 64, 64, 64, 216, 216, 1728, -4913, -27, 343, 343, 729, 1331, 3375, 19683]\n"
     ]
    }
   ],
   "source": [
    "skaiciai_kubu = [skaicius ** 3 for skaicius in skaiciai]\n",
    "print(skaiciai_kubu)"
   ]
  },
  {
   "cell_type": "code",
   "execution_count": 132,
   "metadata": {},
   "outputs": [
    {
     "name": "stdout",
     "output_type": "stream",
     "text": [
      "[2, 2, 2, 2, 2, 4, 4, 4, 4, 4, 6, 6, 12]\n",
      "[-17, -3, 7, 7, 9, 11, 15, 27]\n"
     ]
    }
   ],
   "source": [
    "salyga = lambda x: x % 2 == 0\n",
    "lyginiai = [skaicius for skaicius in skaiciai if salyga(skaicius)]\n",
    "nelyginiai = [skaicius for skaicius in skaiciai if not salyga(skaicius)]\n",
    "print(lyginiai)\n",
    "print(nelyginiai)"
   ]
  },
  {
   "cell_type": "code",
   "execution_count": 134,
   "metadata": {},
   "outputs": [
    {
     "name": "stdout",
     "output_type": "stream",
     "text": [
      "[2, 2, 2, 2, 2, 4, 4, 4, 4, 4, 6, 6, 12]\n",
      "[-17, -3, 7, 7, 9, 11, 15, 27]\n"
     ]
    }
   ],
   "source": [
    "lyginiai = []\n",
    "nelyginiai = []\n",
    "for skaicius in skaiciai:\n",
    "    if skaicius % 2 == 0:\n",
    "        lyginiai.append(skaicius)\n",
    "    else:\n",
    "        nelyginiai.append(skaicius)\n",
    "print(lyginiai)\n",
    "print(nelyginiai)"
   ]
  },
  {
   "cell_type": "code",
   "execution_count": 139,
   "metadata": {},
   "outputs": [
    {
     "name": "stdout",
     "output_type": "stream",
     "text": [
      "[4, 4, 4, 4, 4, 8, 8, 8, 8, 8, 12, 12, 24, -34, -6, 14, 14, 18, 22, 30, 54]\n"
     ]
    }
   ],
   "source": [
    "dvigubi = [(lambda sk: sk *2)(arg) for arg in skaiciai]\n",
    "print(dvigubi)"
   ]
  },
  {
   "cell_type": "markdown",
   "metadata": {},
   "source": [
    "## iteratoriai"
   ]
  },
  {
   "cell_type": "code",
   "execution_count": 166,
   "metadata": {},
   "outputs": [
    {
     "name": "stdout",
     "output_type": "stream",
     "text": [
      "<list_iterator object at 0x7f3a1c0b66e0>\n"
     ]
    }
   ],
   "source": [
    "skaiciu_iteratorius = iter(skaiciai)\n",
    "print(skaiciu_iteratorius)"
   ]
  },
  {
   "cell_type": "code",
   "execution_count": 169,
   "metadata": {},
   "outputs": [
    {
     "name": "stdout",
     "output_type": "stream",
     "text": [
      "2\n",
      "2\n",
      "2\n",
      "4\n",
      "4\n"
     ]
    }
   ],
   "source": [
    "print(next(skaiciu_iteratorius))\n",
    "print(next(skaiciu_iteratorius))\n",
    "print(next(skaiciu_iteratorius))\n",
    "print(next(skaiciu_iteratorius))\n",
    "print(next(skaiciu_iteratorius))"
   ]
  },
  {
   "cell_type": "code",
   "execution_count": 170,
   "metadata": {},
   "outputs": [
    {
     "name": "stdout",
     "output_type": "stream",
     "text": [
      "4\n",
      "4\n",
      "4\n",
      "6\n",
      "6\n",
      "12\n",
      "-17\n",
      "-3\n",
      "7\n",
      "7\n",
      "9\n",
      "11\n",
      "15\n",
      "27\n"
     ]
    }
   ],
   "source": [
    "while True:\n",
    "    try:\n",
    "        print(next(skaiciu_iteratorius))\n",
    "    except StopIteration:\n",
    "        break"
   ]
  },
  {
   "cell_type": "code",
   "execution_count": 171,
   "metadata": {},
   "outputs": [
    {
     "name": "stdout",
     "output_type": "stream",
     "text": [
      "2\n",
      "2\n",
      "2\n",
      "2\n",
      "2\n",
      "4\n",
      "4\n",
      "4\n",
      "4\n",
      "4\n",
      "6\n",
      "6\n",
      "12\n",
      "-17\n",
      "-3\n",
      "7\n",
      "7\n",
      "9\n",
      "11\n",
      "15\n",
      "27\n"
     ]
    }
   ],
   "source": [
    "for skaicius in skaiciai:\n",
    "    print(skaicius)"
   ]
  },
  {
   "cell_type": "code",
   "execution_count": 172,
   "metadata": {},
   "outputs": [],
   "source": [
    "vaikai = {'Marco': 1, 'Maija': 3, 'Emlijia': 9}"
   ]
  },
  {
   "cell_type": "code",
   "execution_count": 173,
   "metadata": {},
   "outputs": [
    {
     "name": "stdout",
     "output_type": "stream",
     "text": [
      "Marco 1\n",
      "Maija 3\n",
      "Emlijia 9\n"
     ]
    }
   ],
   "source": [
    "for vardas, amzius in vaikai.items():\n",
    "    print(vardas, amzius)"
   ]
  },
  {
   "cell_type": "code",
   "execution_count": 177,
   "metadata": {},
   "outputs": [],
   "source": [
    "vaiku_iteratorius = iter(vaikai.items())"
   ]
  },
  {
   "cell_type": "code",
   "execution_count": 175,
   "metadata": {},
   "outputs": [
    {
     "name": "stdout",
     "output_type": "stream",
     "text": [
      "Marco 1\n",
      "Maija 3\n",
      "Emlijia 9\n"
     ]
    }
   ],
   "source": [
    "vaiku_iteratorius = iter(vaikai.items())\n",
    "while True:\n",
    "    try:\n",
    "        vardas, amzius = next(vaiku_iteratorius)\n",
    "    except StopIteration:\n",
    "        break\n",
    "    else:\n",
    "        print(vardas, amzius)"
   ]
  },
  {
   "cell_type": "code",
   "execution_count": 180,
   "metadata": {},
   "outputs": [
    {
     "data": {
      "text/plain": [
       "[('Marco', 1), ('Maija', 3), ('Emlijia', 9)]"
      ]
     },
     "execution_count": 180,
     "metadata": {},
     "output_type": "execute_result"
    }
   ],
   "source": [
    "list(vaiku_iteratorius)"
   ]
  },
  {
   "cell_type": "code",
   "execution_count": 187,
   "metadata": {},
   "outputs": [
    {
     "data": {
      "text/plain": [
       "[('Marco', 1), ('Maija', 3), ('Emlijia', 9)]"
      ]
     },
     "execution_count": 187,
     "metadata": {},
     "output_type": "execute_result"
    }
   ],
   "source": [
    "list(zip(vaikai.keys(), vaikai.values()))"
   ]
  },
  {
   "cell_type": "markdown",
   "metadata": {},
   "source": [
    "## generatoriai"
   ]
  },
  {
   "cell_type": "code",
   "execution_count": 202,
   "metadata": {},
   "outputs": [],
   "source": [
    "def skaiciuoti_iki_n(skaicius):\n",
    "    skaitlukas = 0\n",
    "    while skaitlukas < skaicius:\n",
    "        print(f'pries atidavimas skaitliukas yra {skaitlukas}')\n",
    "        yield skaitlukas\n",
    "        print('tesiam generatoriaus funkcija')\n",
    "        skaitlukas += 1"
   ]
  },
  {
   "cell_type": "code",
   "execution_count": 200,
   "metadata": {},
   "outputs": [
    {
     "name": "stdout",
     "output_type": "stream",
     "text": [
      "<generator object skaiciuoti_iki_n at 0x7f3a0d32d5b0>\n",
      "pries atidavimas skaitliukas yra 0\n",
      "tesiam generatoriaus funkcija\n",
      "pries atidavimas skaitliukas yra 1\n",
      "tesiam generatoriaus funkcija\n",
      "pries atidavimas skaitliukas yra 2\n",
      "tesiam generatoriaus funkcija\n",
      "pries atidavimas skaitliukas yra 3\n",
      "tesiam generatoriaus funkcija\n",
      "pries atidavimas skaitliukas yra 4\n",
      "tesiam generatoriaus funkcija\n",
      "pries atidavimas skaitliukas yra 5\n",
      "tesiam generatoriaus funkcija\n",
      "pries atidavimas skaitliukas yra 6\n",
      "tesiam generatoriaus funkcija\n",
      "pries atidavimas skaitliukas yra 7\n",
      "tesiam generatoriaus funkcija\n",
      "pries atidavimas skaitliukas yra 8\n",
      "tesiam generatoriaus funkcija\n",
      "pries atidavimas skaitliukas yra 9\n",
      "tesiam generatoriaus funkcija\n",
      "[0, 1, 2, 3, 4, 5, 6, 7, 8, 9]\n"
     ]
    }
   ],
   "source": [
    "iki_10 = skaiciuoti_iki_n(10)\n",
    "print(iki_10)\n",
    "print(list(iki_10))"
   ]
  },
  {
   "cell_type": "code",
   "execution_count": 201,
   "metadata": {},
   "outputs": [
    {
     "name": "stdout",
     "output_type": "stream",
     "text": [
      "pries atidavimas skaitliukas yra 0\n",
      "0\n",
      "tesiam generatoriaus funkcija\n",
      "pries atidavimas skaitliukas yra 1\n",
      "1\n",
      "tesiam generatoriaus funkcija\n",
      "pries atidavimas skaitliukas yra 2\n",
      "2\n",
      "tesiam generatoriaus funkcija\n",
      "pries atidavimas skaitliukas yra 3\n",
      "3\n",
      "tesiam generatoriaus funkcija\n",
      "pries atidavimas skaitliukas yra 4\n",
      "4\n",
      "tesiam generatoriaus funkcija\n",
      "pries atidavimas skaitliukas yra 5\n",
      "5\n",
      "tesiam generatoriaus funkcija\n",
      "pries atidavimas skaitliukas yra 6\n",
      "6\n",
      "tesiam generatoriaus funkcija\n",
      "pries atidavimas skaitliukas yra 7\n",
      "7\n",
      "tesiam generatoriaus funkcija\n",
      "pries atidavimas skaitliukas yra 8\n",
      "8\n",
      "tesiam generatoriaus funkcija\n",
      "pries atidavimas skaitliukas yra 9\n",
      "9\n",
      "tesiam generatoriaus funkcija\n"
     ]
    }
   ],
   "source": [
    "iki_10 = skaiciuoti_iki_n(10)\n",
    "for dabartinis in iki_10:\n",
    "    print(dabartinis)"
   ]
  },
  {
   "cell_type": "code",
   "execution_count": 194,
   "metadata": {},
   "outputs": [
    {
     "name": "stdout",
     "output_type": "stream",
     "text": [
      "0\n",
      "1\n",
      "2\n",
      "3\n",
      "4\n"
     ]
    }
   ],
   "source": [
    "iki_5 = skaiciuoti_iki_n(5)\n",
    "while True:\n",
    "    try:\n",
    "        print(next(iki_5))\n",
    "    except StopIteration:\n",
    "        break"
   ]
  },
  {
   "cell_type": "code",
   "execution_count": 195,
   "metadata": {},
   "outputs": [
    {
     "data": {
      "text/plain": [
       "<generator object <genexpr> at 0x7f3a0d4f78b0>"
      ]
     },
     "execution_count": 195,
     "metadata": {},
     "output_type": "execute_result"
    }
   ],
   "source": [
    "skaitliukas = (skaicius for skaicius in skaiciai)\n",
    "skaitliukas"
   ]
  },
  {
   "cell_type": "code",
   "execution_count": 196,
   "metadata": {},
   "outputs": [
    {
     "name": "stdout",
     "output_type": "stream",
     "text": [
      "2\n",
      "2\n",
      "2\n",
      "2\n",
      "2\n",
      "4\n",
      "4\n",
      "4\n",
      "4\n",
      "4\n",
      "6\n",
      "6\n",
      "12\n",
      "-17\n",
      "-3\n",
      "7\n",
      "7\n",
      "9\n",
      "11\n",
      "15\n",
      "27\n"
     ]
    }
   ],
   "source": [
    "while True:\n",
    "    try:\n",
    "        print(next(skaitliukas))\n",
    "    except StopIteration:\n",
    "        break"
   ]
  },
  {
   "cell_type": "code",
   "execution_count": 197,
   "metadata": {},
   "outputs": [
    {
     "data": {
      "text/plain": [
       "<generator object <genexpr> at 0x7f3a0d32c970>"
      ]
     },
     "execution_count": 197,
     "metadata": {},
     "output_type": "execute_result"
    }
   ],
   "source": [
    "laipsnis = 7\n",
    "laipsniu = (skaicius ** laipsnis for skaicius in skaiciai)\n",
    "laipsniu"
   ]
  },
  {
   "cell_type": "code",
   "execution_count": 198,
   "metadata": {},
   "outputs": [
    {
     "name": "stdout",
     "output_type": "stream",
     "text": [
      "128\n",
      "128\n",
      "128\n",
      "128\n",
      "128\n",
      "16384\n",
      "16384\n",
      "16384\n",
      "16384\n",
      "16384\n",
      "279936\n",
      "279936\n",
      "35831808\n",
      "-410338673\n",
      "-2187\n",
      "823543\n",
      "823543\n",
      "4782969\n",
      "19487171\n",
      "170859375\n",
      "10460353203\n"
     ]
    }
   ],
   "source": [
    "for skaicius_laipsniu in laipsniu:\n",
    "    print(skaicius_laipsniu)"
   ]
  }
 ],
 "metadata": {
  "kernelspec": {
   "display_name": "venv",
   "language": "python",
   "name": "python3"
  },
  "language_info": {
   "codemirror_mode": {
    "name": "ipython",
    "version": 3
   },
   "file_extension": ".py",
   "mimetype": "text/x-python",
   "name": "python",
   "nbconvert_exporter": "python",
   "pygments_lexer": "ipython3",
   "version": "3.10.12"
  },
  "orig_nbformat": 4
 },
 "nbformat": 4,
 "nbformat_minor": 2
}
