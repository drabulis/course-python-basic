{
 "cells": [
  {
   "cell_type": "code",
   "execution_count": 1,
   "metadata": {},
   "outputs": [
    {
     "name": "stdout",
     "output_type": "stream",
     "text": [
      "Klaida!\n"
     ]
    }
   ],
   "source": [
    "try:\n",
    "    nesamone = 10 / 0\n",
    "except:\n",
    "    print(\"Klaida!\")\n",
    "else:\n",
    "    print(nesamone)"
   ]
  },
  {
   "cell_type": "code",
   "execution_count": 2,
   "metadata": {},
   "outputs": [
    {
     "name": "stdout",
     "output_type": "stream",
     "text": [
      "Klaida!\n"
     ]
    }
   ],
   "source": [
    "try:\n",
    "    nesamone = 10 / 0\n",
    "except ZeroDivisionError:\n",
    "    print(\"Klaida!\")\n",
    "else:\n",
    "    print(nesamone)"
   ]
  },
  {
   "cell_type": "code",
   "execution_count": 3,
   "metadata": {},
   "outputs": [
    {
     "name": "stdout",
     "output_type": "stream",
     "text": [
      "0.0\n"
     ]
    }
   ],
   "source": [
    "from math import inf\n",
    "try:\n",
    "    nesamone = 1 / inf\n",
    "except ZeroDivisionError:\n",
    "    print(\"Klaida!\")\n",
    "else:\n",
    "    print(nesamone)"
   ]
  },
  {
   "cell_type": "code",
   "execution_count": 4,
   "metadata": {},
   "outputs": [
    {
     "name": "stdout",
     "output_type": "stream",
     "text": [
      "2.5\n",
      "viskas. done.\n"
     ]
    }
   ],
   "source": [
    "try:\n",
    "    padalinta = 5 / 2\n",
    "except ZeroDivisionError:\n",
    "    pass\n",
    "else:\n",
    "    print(padalinta)\n",
    "finally:\n",
    "    print(\"viskas. done.\")"
   ]
  },
  {
   "cell_type": "code",
   "execution_count": 5,
   "metadata": {},
   "outputs": [
    {
     "name": "stdout",
     "output_type": "stream",
     "text": [
      "2.0\n"
     ]
    }
   ],
   "source": [
    "try:\n",
    "    skaicius = int(input(\"Duok skaiciu: \"))\n",
    "    padalinta = 10 / skaicius\n",
    "except ZeroDivisionError:\n",
    "    print(\"Klaida: dalinti is 0 negalima.\")\n",
    "except ValueError:\n",
    "    print(\"Ivestas ne skaicius\")\n",
    "except:\n",
    "    print(\"oops\")\n",
    "else:\n",
    "    print(padalinta)"
   ]
  },
  {
   "cell_type": "code",
   "execution_count": 6,
   "metadata": {},
   "outputs": [
    {
     "name": "stdout",
     "output_type": "stream",
     "text": [
      "2.0\n"
     ]
    }
   ],
   "source": [
    "try:\n",
    "    skaicius = int(input(\"Duok skaiciu: \"))\n",
    "    padalinta = 10 / skaicius\n",
    "except Exception as error:\n",
    "    print(error.__class__)\n",
    "else:\n",
    "    print(padalinta)"
   ]
  },
  {
   "cell_type": "code",
   "execution_count": 7,
   "metadata": {},
   "outputs": [
    {
     "name": "stdout",
     "output_type": "stream",
     "text": [
      "2.0\n"
     ]
    }
   ],
   "source": [
    "skaicius = input(\"Duok skaiciu: \")\n",
    "\n",
    "if skaicius.isdigit():\n",
    "    skaicius = int(skaicius)\n",
    "    if skaicius == 0:\n",
    "        print(\"Dalinti is nulio negalima\")\n",
    "    else:\n",
    "        padalinta = 10 / skaicius\n",
    "        print(padalinta)\n",
    "else:\n",
    "    print(\"Ivestas ne skaicius\")"
   ]
  },
  {
   "cell_type": "code",
   "execution_count": 8,
   "metadata": {},
   "outputs": [
    {
     "name": "stdout",
     "output_type": "stream",
     "text": [
      "unsupported operand type(s) for /: 'int' and 'str'\n"
     ]
    }
   ],
   "source": [
    "try:\n",
    "    rezultatas = 100 / \"du\"\n",
    "except TypeError as error:\n",
    "    print(error)"
   ]
  },
  {
   "cell_type": "code",
   "execution_count": 9,
   "metadata": {},
   "outputs": [
    {
     "name": "stdout",
     "output_type": "stream",
     "text": [
      "name 'belenkas' is not defined\n"
     ]
    }
   ],
   "source": [
    "try:\n",
    "    print(belenkas)\n",
    "except NameError as error:\n",
    "    print(error)\n"
   ]
  },
  {
   "cell_type": "code",
   "execution_count": 10,
   "metadata": {},
   "outputs": [
    {
     "name": "stdout",
     "output_type": "stream",
     "text": [
      "list index out of range\n"
     ]
    }
   ],
   "source": [
    "sarasas = [1, 2, 3]\n",
    "try:\n",
    "    print(sarasas[3])\n",
    "except IndexError as error:\n",
    "    print(error)"
   ]
  },
  {
   "cell_type": "code",
   "execution_count": 11,
   "metadata": {},
   "outputs": [
    {
     "name": "stdout",
     "output_type": "stream",
     "text": [
      "nėra ananaso\n"
     ]
    }
   ],
   "source": [
    "vaisiai = {\n",
    "    'bananas': 1,\n",
    "    'braškė': 7, \n",
    "}\n",
    "try:\n",
    "    print(vaisiai['ananasas'])\n",
    "except KeyError:\n",
    "    print('nėra ananaso')"
   ]
  },
  {
   "cell_type": "code",
   "execution_count": 12,
   "metadata": {},
   "outputs": [
    {
     "name": "stdout",
     "output_type": "stream",
     "text": [
      "'dict' object has no attribute 'append'\n"
     ]
    }
   ],
   "source": [
    "try:\n",
    "    vaisiai.append('ananasas')\n",
    "except AttributeError as error:\n",
    "    print(error)\n"
   ]
  },
  {
   "cell_type": "code",
   "execution_count": 13,
   "metadata": {},
   "outputs": [
    {
     "name": "stdout",
     "output_type": "stream",
     "text": [
      "{'bananas': 1, 'braškė': 7, 'ananasas': 4}\n",
      "[1, 2, 3, 4]\n"
     ]
    }
   ],
   "source": [
    "rinkiniai = [vaisiai, sarasas]\n",
    "\n",
    "for rinkinys in rinkiniai:\n",
    "    if hasattr(rinkinys, 'append'):\n",
    "        rinkinys.append(4)\n",
    "    elif hasattr(rinkinys, 'update'):\n",
    "        rinkinys.update({'ananasas': 4})\n",
    "    print(rinkinys)\n"
   ]
  },
  {
   "cell_type": "code",
   "execution_count": 14,
   "metadata": {},
   "outputs": [
    {
     "name": "stdout",
     "output_type": "stream",
     "text": [
      "TypeError\n"
     ]
    }
   ],
   "source": [
    "try:\n",
    "    rinkiniai['naujas'] = 7\n",
    "except Exception as error:\n",
    "    print(error.__class__.__name__)"
   ]
  },
  {
   "cell_type": "code",
   "execution_count": 15,
   "metadata": {},
   "outputs": [],
   "source": [
    "meniu = \"\"\"===[ Super Vaisiai ]===\n",
    "0 - išeiti\n",
    "1 - pridėti\n",
    "2 - išmesti\n",
    "3 - rodyti\n",
    "pasirinkite: \"\"\"\n",
    "\n",
    "\n",
    "class BlogasPasirinkimas(Exception):\n",
    "    pass\n",
    "\n",
    "\n",
    "class BlogaReiksme(ValueError):\n",
    "    pass\n",
    "\n",
    "\n",
    "def pasirinkti():\n",
    "    pasirinkimas = input(meniu)\n",
    "    if not pasirinkimas.isdigit():\n",
    "        raise BlogasPasirinkimas(\"blogas pasirinkimas\")\n",
    "    elif not 0 <= int(pasirinkimas) <= 3:\n",
    "        raise BlogaReiksme(\"pasirinkimas turi būti tarp 0 ir 3 imtinai.\")\n",
    "    else:\n",
    "        return pasirinkimas\n"
   ]
  },
  {
   "cell_type": "code",
   "execution_count": 16,
   "metadata": {},
   "outputs": [
    {
     "name": "stdout",
     "output_type": "stream",
     "text": [
      "0\n"
     ]
    }
   ],
   "source": [
    "try:\n",
    "    print(pasirinkti())\n",
    "except ValueError as error:\n",
    "    print(error)"
   ]
  },
  {
   "cell_type": "code",
   "execution_count": 17,
   "metadata": {},
   "outputs": [
    {
     "name": "stdout",
     "output_type": "stream",
     "text": [
      "0\n"
     ]
    }
   ],
   "source": [
    "try:\n",
    "    print(pasirinkti())\n",
    "except (BlogasPasirinkimas, BlogaReiksme) as error:\n",
    "    print(error)"
   ]
  },
  {
   "cell_type": "markdown",
   "metadata": {},
   "source": [
    "## loginimas"
   ]
  },
  {
   "cell_type": "code",
   "execution_count": 18,
   "metadata": {},
   "outputs": [
    {
     "name": "stderr",
     "output_type": "stream",
     "text": [
      "WARNING:root:kazkas ne taip\n"
     ]
    }
   ],
   "source": [
    "import logging\n",
    "logging.warning('kazkas ne taip')"
   ]
  },
  {
   "cell_type": "code",
   "execution_count": 19,
   "metadata": {},
   "outputs": [
    {
     "name": "stderr",
     "output_type": "stream",
     "text": [
      "ERROR:root:kazkas labai netaip\n"
     ]
    }
   ],
   "source": [
    "logging.error('kazkas labai netaip')"
   ]
  },
  {
   "cell_type": "code",
   "execution_count": 20,
   "metadata": {},
   "outputs": [],
   "source": [
    "logging.basicConfig(level=logging.INFO)"
   ]
  },
  {
   "cell_type": "code",
   "execution_count": 21,
   "metadata": {},
   "outputs": [],
   "source": [
    "logging.info('pranesimas')"
   ]
  },
  {
   "cell_type": "code",
   "execution_count": 22,
   "metadata": {},
   "outputs": [
    {
     "name": "stderr",
     "output_type": "stream",
     "text": [
      "INFO:__main__:__main__\n"
     ]
    }
   ],
   "source": [
    "logerius = logging.getLogger(__name__)\n",
    "logerius.level = logging.INFO\n",
    "logerius.info(__name__)"
   ]
  },
  {
   "cell_type": "code",
   "execution_count": 23,
   "metadata": {},
   "outputs": [
    {
     "name": "stderr",
     "output_type": "stream",
     "text": [
      "WARNING:__main__:as tave ispeju!\n"
     ]
    }
   ],
   "source": [
    "logerius.warning('as tave ispeju!')"
   ]
  },
  {
   "cell_type": "code",
   "execution_count": 26,
   "metadata": {},
   "outputs": [
    {
     "name": "stderr",
     "output_type": "stream",
     "text": [
      "ERROR:root:neber ka daugiau det cia\n"
     ]
    }
   ],
   "source": [
    "# neveiks jupyteryje\n",
    "logging.basicConfig(filename=\"logging.log\", encoding=\"UTF-8\", level=logging.INFO)\n",
    "logging.info(\"Programa veikia\")\n",
    "logging.error(\"neber ka daugiau det cia\")"
   ]
  }
 ],
 "metadata": {
  "kernelspec": {
   "display_name": "venv",
   "language": "python",
   "name": "python3"
  },
  "language_info": {
   "codemirror_mode": {
    "name": "ipython",
    "version": 3
   },
   "file_extension": ".py",
   "mimetype": "text/x-python",
   "name": "python",
   "nbconvert_exporter": "python",
   "pygments_lexer": "ipython3",
   "version": "3.10.12"
  },
  "orig_nbformat": 4
 },
 "nbformat": 4,
 "nbformat_minor": 2
}
